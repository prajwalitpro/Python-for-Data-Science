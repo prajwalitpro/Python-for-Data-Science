{
 "cells": [
  {
   "cell_type": "markdown",
   "id": "5bbe503a",
   "metadata": {},
   "source": [
    "# Basic  Operations in Python"
   ]
  },
  {
   "cell_type": "code",
   "execution_count": 1,
   "id": "db23d15b",
   "metadata": {},
   "outputs": [],
   "source": [
    "# Creating Variable"
   ]
  },
  {
   "cell_type": "code",
   "execution_count": 2,
   "id": "ec3a4f22",
   "metadata": {},
   "outputs": [],
   "source": [
    "a = 10"
   ]
  },
  {
   "cell_type": "code",
   "execution_count": 3,
   "id": "726a8ae5",
   "metadata": {},
   "outputs": [],
   "source": [
    "# The 10 number is stored in computer starage parmanently"
   ]
  },
  {
   "cell_type": "code",
   "execution_count": 4,
   "id": "724f5d24",
   "metadata": {},
   "outputs": [
    {
     "data": {
      "text/plain": [
       "10"
      ]
     },
     "execution_count": 4,
     "metadata": {},
     "output_type": "execute_result"
    }
   ],
   "source": [
    "a"
   ]
  },
  {
   "cell_type": "code",
   "execution_count": 5,
   "id": "f8d8df9b",
   "metadata": {},
   "outputs": [
    {
     "data": {
      "text/plain": [
       "140710981833800"
      ]
     },
     "execution_count": 5,
     "metadata": {},
     "output_type": "execute_result"
    }
   ],
   "source": [
    "# To see the memory location of variable \"a\"\n",
    "id(a)"
   ]
  },
  {
   "cell_type": "code",
   "execution_count": 6,
   "id": "49d8e06e",
   "metadata": {},
   "outputs": [],
   "source": [
    "# Some arithmetic operators are: +(Addition), -(Substraction), *(Multiplication), /(Division), %(Remainder)"
   ]
  },
  {
   "cell_type": "code",
   "execution_count": 7,
   "id": "af2fe169",
   "metadata": {},
   "outputs": [
    {
     "data": {
      "text/plain": [
       "23"
      ]
     },
     "execution_count": 7,
     "metadata": {},
     "output_type": "execute_result"
    }
   ],
   "source": [
    "a + 13"
   ]
  },
  {
   "cell_type": "code",
   "execution_count": 8,
   "id": "bf74d065",
   "metadata": {},
   "outputs": [
    {
     "data": {
      "text/plain": [
       "23"
      ]
     },
     "execution_count": 8,
     "metadata": {},
     "output_type": "execute_result"
    }
   ],
   "source": [
    "add = a + 13\n",
    "add"
   ]
  },
  {
   "cell_type": "code",
   "execution_count": 9,
   "id": "a9dd9adb",
   "metadata": {},
   "outputs": [
    {
     "data": {
      "text/plain": [
       "20.19"
      ]
     },
     "execution_count": 9,
     "metadata": {},
     "output_type": "execute_result"
    }
   ],
   "source": [
    "sub = add - 2.81\n",
    "sub"
   ]
  },
  {
   "cell_type": "code",
   "execution_count": 10,
   "id": "95d4f2e6",
   "metadata": {},
   "outputs": [
    {
     "data": {
      "text/plain": [
       "40.38"
      ]
     },
     "execution_count": 10,
     "metadata": {},
     "output_type": "execute_result"
    }
   ],
   "source": [
    "mul = sub * 2\n",
    "mul"
   ]
  },
  {
   "cell_type": "code",
   "execution_count": 11,
   "id": "9926ea03",
   "metadata": {},
   "outputs": [
    {
     "data": {
      "text/plain": [
       "20.19"
      ]
     },
     "execution_count": 11,
     "metadata": {},
     "output_type": "execute_result"
    }
   ],
   "source": [
    "div = mul / 2\n",
    "div"
   ]
  },
  {
   "cell_type": "markdown",
   "id": "24567a09",
   "metadata": {},
   "source": [
    "---\n",
    "# Comment\n",
    "\n",
    "**Types of Comment**\n",
    "1) Single Line Comment\n",
    "2) Multi Line Comment\n",
    "\n",
    "-------------------"
   ]
  },
  {
   "cell_type": "markdown",
   "id": "c14fc294",
   "metadata": {},
   "source": [
    "1. Create Single Line Comment"
   ]
  },
  {
   "cell_type": "code",
   "execution_count": 12,
   "id": "f163bd88",
   "metadata": {},
   "outputs": [],
   "source": [
    "# Use \"#\" Symbol to write sinle line comment"
   ]
  },
  {
   "cell_type": "code",
   "execution_count": 13,
   "id": "77361585",
   "metadata": {},
   "outputs": [],
   "source": [
    "# Hey, I am writing single line comment."
   ]
  },
  {
   "cell_type": "markdown",
   "id": "64bf0914",
   "metadata": {},
   "source": [
    "2. Multi Line Comment"
   ]
  },
  {
   "cell_type": "code",
   "execution_count": 14,
   "id": "90abbbfc",
   "metadata": {},
   "outputs": [
    {
     "data": {
      "text/plain": [
       "\"Hey, I'm writing multi-line comment\\n and \\nIt is very useful when writing notes.\""
      ]
     },
     "execution_count": 14,
     "metadata": {},
     "output_type": "execute_result"
    }
   ],
   "source": [
    "# Give Triple Quote\n",
    "\n",
    "'''Hey, I'm writing multi-line comment\n",
    " and \n",
    "It is very useful when writing notes.'''"
   ]
  },
  {
   "cell_type": "markdown",
   "id": "c7fd2bc3",
   "metadata": {},
   "source": [
    "---\n",
    "# Data Types\n",
    "1) Integer\n",
    "2) Float\n",
    "3) String\n",
    "4) Boolean"
   ]
  },
  {
   "cell_type": "markdown",
   "id": "9f62ec0c",
   "metadata": {},
   "source": [
    "-------------\n",
    "1. Integer"
   ]
  },
  {
   "cell_type": "code",
   "execution_count": 15,
   "id": "0df86934",
   "metadata": {},
   "outputs": [],
   "source": [
    "idt = 232"
   ]
  },
  {
   "cell_type": "code",
   "execution_count": 16,
   "id": "df56f72a",
   "metadata": {},
   "outputs": [
    {
     "data": {
      "text/plain": [
       "int"
      ]
     },
     "execution_count": 16,
     "metadata": {},
     "output_type": "execute_result"
    }
   ],
   "source": [
    "# To check the data type\n",
    "\n",
    "type(idt)"
   ]
  },
  {
   "cell_type": "code",
   "execution_count": 17,
   "id": "c6dc5676",
   "metadata": {},
   "outputs": [
    {
     "data": {
      "text/plain": [
       "int"
      ]
     },
     "execution_count": 17,
     "metadata": {},
     "output_type": "execute_result"
    }
   ],
   "source": [
    "type(-5784)"
   ]
  },
  {
   "cell_type": "code",
   "execution_count": 18,
   "id": "837c02e7",
   "metadata": {},
   "outputs": [
    {
     "data": {
      "text/plain": [
       "int"
      ]
     },
     "execution_count": 18,
     "metadata": {},
     "output_type": "execute_result"
    }
   ],
   "source": [
    "'''To check the use/working of function/keyword\n",
    "type that function and \n",
    "\n",
    "--> press shift + tab'''\n",
    "\n",
    "type(idt) #press shift + tab'"
   ]
  },
  {
   "cell_type": "markdown",
   "id": "58991ca0",
   "metadata": {},
   "source": [
    "---------\n",
    "2. Float"
   ]
  },
  {
   "cell_type": "code",
   "execution_count": 19,
   "id": "eb17427f",
   "metadata": {},
   "outputs": [
    {
     "data": {
      "text/plain": [
       "79511.81"
      ]
     },
     "execution_count": 19,
     "metadata": {},
     "output_type": "execute_result"
    }
   ],
   "source": [
    "fdt = 79511.81\n",
    "fdt"
   ]
  },
  {
   "cell_type": "code",
   "execution_count": 20,
   "id": "1fde32f9",
   "metadata": {},
   "outputs": [
    {
     "data": {
      "text/plain": [
       "float"
      ]
     },
     "execution_count": 20,
     "metadata": {},
     "output_type": "execute_result"
    }
   ],
   "source": [
    "type(fdt)"
   ]
  },
  {
   "cell_type": "markdown",
   "id": "10020ce1",
   "metadata": {},
   "source": [
    "---\n",
    "3. String"
   ]
  },
  {
   "cell_type": "code",
   "execution_count": 21,
   "id": "408bc064",
   "metadata": {},
   "outputs": [
    {
     "data": {
      "text/plain": [
       "'Namaskar: is this is word is string'"
      ]
     },
     "execution_count": 21,
     "metadata": {},
     "output_type": "execute_result"
    }
   ],
   "source": [
    "sdt1 = 'Namaskar: is this is word is string'\n",
    "sdt1"
   ]
  },
  {
   "cell_type": "code",
   "execution_count": 22,
   "id": "b08a9fbe",
   "metadata": {},
   "outputs": [
    {
     "data": {
      "text/plain": [
       "str"
      ]
     },
     "execution_count": 22,
     "metadata": {},
     "output_type": "execute_result"
    }
   ],
   "source": [
    "# Let me check Namaskar is string or not.\n",
    "\n",
    "type(sdt1)"
   ]
  },
  {
   "cell_type": "code",
   "execution_count": 23,
   "id": "0d70a16d",
   "metadata": {},
   "outputs": [
    {
     "data": {
      "text/plain": [
       "'If I type a string in double quotes it is treated as a string or not'"
      ]
     },
     "execution_count": 23,
     "metadata": {},
     "output_type": "execute_result"
    }
   ],
   "source": [
    "sdt2 = \"If I type a string in double quotes it is treated as a string or not\"\n",
    "sdt2"
   ]
  },
  {
   "cell_type": "code",
   "execution_count": 24,
   "id": "1aa4896b",
   "metadata": {},
   "outputs": [
    {
     "data": {
      "text/plain": [
       "str"
      ]
     },
     "execution_count": 24,
     "metadata": {},
     "output_type": "execute_result"
    }
   ],
   "source": [
    "# Let me check the data type of sdt2\n",
    "\n",
    "type(sdt2)"
   ]
  },
  {
   "cell_type": "code",
   "execution_count": 25,
   "id": "078784d6",
   "metadata": {},
   "outputs": [],
   "source": [
    "s1 = 'This is string'\n",
    "s2 = \"This is string\"\n",
    "s3 = '''This is string'''"
   ]
  },
  {
   "cell_type": "code",
   "execution_count": 26,
   "id": "5ac88cbd",
   "metadata": {},
   "outputs": [
    {
     "data": {
      "text/plain": [
       "True"
      ]
     },
     "execution_count": 26,
     "metadata": {},
     "output_type": "execute_result"
    }
   ],
   "source": [
    "''' Let me check this s1,s2 & s3 strings are same or not.\n",
    "# To compare two things use == '''\n",
    "\n",
    "s1 == s2"
   ]
  },
  {
   "cell_type": "code",
   "execution_count": 27,
   "id": "87414dac",
   "metadata": {},
   "outputs": [
    {
     "data": {
      "text/plain": [
       "True"
      ]
     },
     "execution_count": 27,
     "metadata": {},
     "output_type": "execute_result"
    }
   ],
   "source": [
    "s1 == s2 == s3"
   ]
  },
  {
   "cell_type": "code",
   "execution_count": 28,
   "id": "c8a286aa",
   "metadata": {},
   "outputs": [],
   "source": [
    "s4 = \"Python was created by Guido van Rossum, and First released on February 20, 1991\"\n",
    "s5 = \"Python was created by Guido van Rossum, and first released on February 20, 1991\""
   ]
  },
  {
   "cell_type": "markdown",
   "id": "cc342d6c",
   "metadata": {},
   "source": [
    "Note: In, s4 \"First\" word 1st alphabet is capital and In, s5 \"first\" word 1st alphabet is small"
   ]
  },
  {
   "cell_type": "code",
   "execution_count": 29,
   "id": "60754d75",
   "metadata": {},
   "outputs": [
    {
     "data": {
      "text/plain": [
       "False"
      ]
     },
     "execution_count": 29,
     "metadata": {},
     "output_type": "execute_result"
    }
   ],
   "source": [
    "# Let us compare this two strings\n",
    "\n",
    "s4 == s5"
   ]
  },
  {
   "cell_type": "markdown",
   "id": "2a91e3b4",
   "metadata": {},
   "source": [
    "Note: Use \"\" when the (ex.) words like It's, Don't,..."
   ]
  },
  {
   "cell_type": "code",
   "execution_count": 30,
   "id": "df05a6ba",
   "metadata": {},
   "outputs": [
    {
     "ename": "SyntaxError",
     "evalue": "unterminated string literal (detected at line 1) (4089244675.py, line 1)",
     "output_type": "error",
     "traceback": [
      "\u001b[1;36m  Cell \u001b[1;32mIn[30], line 1\u001b[1;36m\u001b[0m\n\u001b[1;33m    sdt3 = 'It's a Jupyter Notebook'\u001b[0m\n\u001b[1;37m                                   ^\u001b[0m\n\u001b[1;31mSyntaxError\u001b[0m\u001b[1;31m:\u001b[0m unterminated string literal (detected at line 1)\n"
     ]
    }
   ],
   "source": [
    "sdt3 = 'It's a Jupyter Notebook'\n",
    "sdt3"
   ]
  },
  {
   "cell_type": "code",
   "execution_count": 31,
   "id": "b3041c2d",
   "metadata": {},
   "outputs": [
    {
     "data": {
      "text/plain": [
       "\"It's a Jupyter Notebook\""
      ]
     },
     "execution_count": 31,
     "metadata": {},
     "output_type": "execute_result"
    }
   ],
   "source": [
    "sdt4 = \"It's a Jupyter Notebook\"\n",
    "sdt4"
   ]
  },
  {
   "cell_type": "markdown",
   "id": "307d4549",
   "metadata": {},
   "source": [
    "---\n",
    "4. Boolean"
   ]
  },
  {
   "cell_type": "code",
   "execution_count": 32,
   "id": "8f58038a",
   "metadata": {},
   "outputs": [
    {
     "data": {
      "text/plain": [
       "True"
      ]
     },
     "execution_count": 32,
     "metadata": {},
     "output_type": "execute_result"
    }
   ],
   "source": [
    "bdt1 = True\n",
    "bdt1"
   ]
  },
  {
   "cell_type": "code",
   "execution_count": 33,
   "id": "96b828ec",
   "metadata": {},
   "outputs": [
    {
     "data": {
      "text/plain": [
       "bool"
      ]
     },
     "execution_count": 33,
     "metadata": {},
     "output_type": "execute_result"
    }
   ],
   "source": [
    "type(bdt1)"
   ]
  },
  {
   "cell_type": "code",
   "execution_count": 34,
   "id": "d8fd0868",
   "metadata": {},
   "outputs": [
    {
     "data": {
      "text/plain": [
       "False"
      ]
     },
     "execution_count": 34,
     "metadata": {},
     "output_type": "execute_result"
    }
   ],
   "source": [
    "bdt2 = False\n",
    "bdt2"
   ]
  },
  {
   "cell_type": "code",
   "execution_count": 35,
   "id": "44cf2ee2",
   "metadata": {},
   "outputs": [
    {
     "data": {
      "text/plain": [
       "bool"
      ]
     },
     "execution_count": 35,
     "metadata": {},
     "output_type": "execute_result"
    }
   ],
   "source": [
    "type(bdt2)"
   ]
  },
  {
   "cell_type": "markdown",
   "id": "fd861eb3",
   "metadata": {},
   "source": [
    "---"
   ]
  },
  {
   "cell_type": "markdown",
   "id": "9af55e9e",
   "metadata": {},
   "source": [
    "# Typecasting\n",
    "- It is used to change the data types or data structure."
   ]
  },
  {
   "cell_type": "code",
   "execution_count": 36,
   "id": "fd8e6bee",
   "metadata": {},
   "outputs": [
    {
     "data": {
      "text/plain": [
       "int"
      ]
     },
     "execution_count": 36,
     "metadata": {},
     "output_type": "execute_result"
    }
   ],
   "source": [
    "tc = 4821\n",
    "type(tc)"
   ]
  },
  {
   "cell_type": "code",
   "execution_count": 37,
   "id": "d762c40c",
   "metadata": {},
   "outputs": [],
   "source": [
    "# Changing the int to float\n",
    "\n",
    "tcfdt = float(tc)"
   ]
  },
  {
   "cell_type": "code",
   "execution_count": 38,
   "id": "564b3f40",
   "metadata": {},
   "outputs": [
    {
     "data": {
      "text/plain": [
       "float"
      ]
     },
     "execution_count": 38,
     "metadata": {},
     "output_type": "execute_result"
    }
   ],
   "source": [
    "type(tcfdt)"
   ]
  },
  {
   "cell_type": "code",
   "execution_count": 39,
   "id": "28207838",
   "metadata": {},
   "outputs": [
    {
     "data": {
      "text/plain": [
       "'4821.0'"
      ]
     },
     "execution_count": 39,
     "metadata": {},
     "output_type": "execute_result"
    }
   ],
   "source": [
    "# Changing float to string\n",
    "\n",
    "tcsdt = str(tcfdt)\n",
    "tcsdt"
   ]
  },
  {
   "cell_type": "code",
   "execution_count": 40,
   "id": "fcdaacf8",
   "metadata": {},
   "outputs": [
    {
     "data": {
      "text/plain": [
       "str"
      ]
     },
     "execution_count": 40,
     "metadata": {},
     "output_type": "execute_result"
    }
   ],
   "source": [
    "type(tcsdt)"
   ]
  },
  {
   "cell_type": "code",
   "execution_count": 41,
   "id": "16ee38c3",
   "metadata": {},
   "outputs": [
    {
     "data": {
      "text/plain": [
       "int"
      ]
     },
     "execution_count": 41,
     "metadata": {},
     "output_type": "execute_result"
    }
   ],
   "source": [
    "x = 10\n",
    "type(x)"
   ]
  },
  {
   "cell_type": "code",
   "execution_count": 42,
   "id": "bb06a95f",
   "metadata": {},
   "outputs": [
    {
     "data": {
      "text/plain": [
       "True"
      ]
     },
     "execution_count": 42,
     "metadata": {},
     "output_type": "execute_result"
    }
   ],
   "source": [
    "x1 = bool(x)\n",
    "x1"
   ]
  },
  {
   "cell_type": "code",
   "execution_count": 43,
   "id": "1d435014",
   "metadata": {},
   "outputs": [
    {
     "data": {
      "text/plain": [
       "bool"
      ]
     },
     "execution_count": 43,
     "metadata": {},
     "output_type": "execute_result"
    }
   ],
   "source": [
    "type(x1)"
   ]
  },
  {
   "cell_type": "code",
   "execution_count": 44,
   "id": "87a57ebc",
   "metadata": {},
   "outputs": [
    {
     "data": {
      "text/plain": [
       "int"
      ]
     },
     "execution_count": 44,
     "metadata": {},
     "output_type": "execute_result"
    }
   ],
   "source": [
    "y = 0\n",
    "type(y)"
   ]
  },
  {
   "cell_type": "code",
   "execution_count": 45,
   "id": "444d2f0b",
   "metadata": {},
   "outputs": [
    {
     "data": {
      "text/plain": [
       "False"
      ]
     },
     "execution_count": 45,
     "metadata": {},
     "output_type": "execute_result"
    }
   ],
   "source": [
    "y1 = bool(y)\n",
    "y1"
   ]
  },
  {
   "cell_type": "code",
   "execution_count": 46,
   "id": "af67d224",
   "metadata": {},
   "outputs": [
    {
     "data": {
      "text/plain": [
       "bool"
      ]
     },
     "execution_count": 46,
     "metadata": {},
     "output_type": "execute_result"
    }
   ],
   "source": [
    "type(y1)"
   ]
  },
  {
   "cell_type": "markdown",
   "id": "38eecd09",
   "metadata": {},
   "source": [
    " ---\n",
    "# String Methods"
   ]
  },
  {
   "cell_type": "markdown",
   "id": "1dd963b3",
   "metadata": {},
   "source": [
    "---\n",
    "Note: To check available functions for a particular variable\n",
    "    type variable name put the . and press the tab\n",
    "\n",
    "---"
   ]
  },
  {
   "cell_type": "code",
   "execution_count": 47,
   "id": "1e999866",
   "metadata": {},
   "outputs": [
    {
     "data": {
      "text/plain": [
       "'this is a string ,, for trial'"
      ]
     },
     "execution_count": 47,
     "metadata": {},
     "output_type": "execute_result"
    }
   ],
   "source": [
    "p = 'this is a string ,, for trial'\n",
    "p"
   ]
  },
  {
   "cell_type": "code",
   "execution_count": 48,
   "id": "5bad6c89",
   "metadata": {},
   "outputs": [
    {
     "ename": "SyntaxError",
     "evalue": "invalid syntax (355349335.py, line 1)",
     "output_type": "error",
     "traceback": [
      "\u001b[1;36m  Cell \u001b[1;32mIn[48], line 1\u001b[1;36m\u001b[0m\n\u001b[1;33m    p.     #put the . and press the tab\u001b[0m\n\u001b[1;37m           ^\u001b[0m\n\u001b[1;31mSyntaxError\u001b[0m\u001b[1;31m:\u001b[0m invalid syntax\n"
     ]
    }
   ],
   "source": [
    "p.     #put the . and press the tab"
   ]
  },
  {
   "cell_type": "code",
   "execution_count": 49,
   "id": "e3a70541",
   "metadata": {},
   "outputs": [
    {
     "data": {
      "text/plain": [
       "'This is a string ,, for trial'"
      ]
     },
     "execution_count": 49,
     "metadata": {},
     "output_type": "execute_result"
    }
   ],
   "source": [
    "# Capitalize function (It will capitalize the first aplphabet of first word of the sentence)\n",
    "\n",
    "pc = p.capitalize()\n",
    "pc"
   ]
  },
  {
   "cell_type": "code",
   "execution_count": 50,
   "id": "88a11435",
   "metadata": {},
   "outputs": [
    {
     "data": {
      "text/plain": [
       "'T|h|i|s| |i|s| |a| |s|t|r|i|n|g| |,|,| |f|o|r| |t|r|i|a|l'"
      ]
     },
     "execution_count": 50,
     "metadata": {},
     "output_type": "execute_result"
    }
   ],
   "source": [
    "# Join function (This function will add the specified symbol after each alphabet)\n",
    "\n",
    "pj = '|'.join(pc)\n",
    "pj"
   ]
  },
  {
   "cell_type": "code",
   "execution_count": 51,
   "id": "2fad05ab",
   "metadata": {},
   "outputs": [
    {
     "data": {
      "text/plain": [
       "'Data science is the study of data to extract meaningful insights for business. It is a multidisciplinary approach that combines principles and practices from the fields of mathematics, statistics, artificial intelligence, and computer engineering to analyze large amounts of data'"
      ]
     },
     "execution_count": 51,
     "metadata": {},
     "output_type": "execute_result"
    }
   ],
   "source": [
    "ds = \"Data science is the study of data to extract meaningful insights for business. It is a multidisciplinary approach that combines principles and practices from the fields of mathematics, statistics, artificial intelligence, and computer engineering to analyze large amounts of data\"\n",
    "ds"
   ]
  },
  {
   "cell_type": "markdown",
   "id": "ac3c96ac",
   "metadata": {},
   "source": [
    "**Data science is the study of data to extract meaningful insights for business. It is a multidisciplinary approach that combines principles and practices from the fields of mathematics, statistics, artificial intelligence, and computer engineering to analyze large amounts of data.**"
   ]
  },
  {
   "cell_type": "code",
   "execution_count": 52,
   "id": "88e6f1a5",
   "metadata": {},
   "outputs": [
    {
     "data": {
      "text/plain": [
       "'D-a-t-a- -s-c-i-e-n-c-e- -i-s- -t-h-e- -s-t-u-d-y- -o-f- -d-a-t-a- -t-o- -e-x-t-r-a-c-t- -m-e-a-n-i-n-g-f-u-l- -i-n-s-i-g-h-t-s- -f-o-r- -b-u-s-i-n-e-s-s-.- -I-t- -i-s- -a- -m-u-l-t-i-d-i-s-c-i-p-l-i-n-a-r-y- -a-p-p-r-o-a-c-h- -t-h-a-t- -c-o-m-b-i-n-e-s- -p-r-i-n-c-i-p-l-e-s- -a-n-d- -p-r-a-c-t-i-c-e-s- -f-r-o-m- -t-h-e- -f-i-e-l-d-s- -o-f- -m-a-t-h-e-m-a-t-i-c-s-,- -s-t-a-t-i-s-t-i-c-s-,- -a-r-t-i-f-i-c-i-a-l- -i-n-t-e-l-l-i-g-e-n-c-e-,- -a-n-d- -c-o-m-p-u-t-e-r- -e-n-g-i-n-e-e-r-i-n-g- -t-o- -a-n-a-l-y-z-e- -l-a-r-g-e- -a-m-o-u-n-t-s- -o-f- -d-a-t-a'"
      ]
     },
     "execution_count": 52,
     "metadata": {},
     "output_type": "execute_result"
    }
   ],
   "source": [
    "'-'.join(ds)"
   ]
  },
  {
   "cell_type": "code",
   "execution_count": 53,
   "id": "62c7937d",
   "metadata": {},
   "outputs": [
    {
     "data": {
      "text/plain": [
       "'This is a string ,, for trial'"
      ]
     },
     "execution_count": 53,
     "metadata": {},
     "output_type": "execute_result"
    }
   ],
   "source": [
    "pc"
   ]
  },
  {
   "cell_type": "code",
   "execution_count": 54,
   "id": "91344d3a",
   "metadata": {},
   "outputs": [
    {
     "data": {
      "text/plain": [
       "2"
      ]
     },
     "execution_count": 54,
     "metadata": {},
     "output_type": "execute_result"
    }
   ],
   "source": [
    "# Index function (It will return the Index number of specified value)\n",
    "\n",
    "pc.index('is')"
   ]
  },
  {
   "cell_type": "code",
   "execution_count": 55,
   "id": "d50a6123",
   "metadata": {},
   "outputs": [
    {
     "data": {
      "text/plain": [
       "0"
      ]
     },
     "execution_count": 55,
     "metadata": {},
     "output_type": "execute_result"
    }
   ],
   "source": [
    "pc.index('This')"
   ]
  },
  {
   "cell_type": "code",
   "execution_count": 56,
   "id": "07c13926",
   "metadata": {},
   "outputs": [
    {
     "data": {
      "text/plain": [
       "True"
      ]
     },
     "execution_count": 56,
     "metadata": {},
     "output_type": "execute_result"
    }
   ],
   "source": [
    "# Startswith (It will return the specified value is starting with or not)\n",
    "\n",
    "pc.startswith('T')\n",
    "\n",
    "# I am checking is my string is starting with capital T or not"
   ]
  },
  {
   "cell_type": "code",
   "execution_count": 57,
   "id": "ab54ca57",
   "metadata": {},
   "outputs": [
    {
     "data": {
      "text/plain": [
       "False"
      ]
     },
     "execution_count": 57,
     "metadata": {},
     "output_type": "execute_result"
    }
   ],
   "source": [
    "pc.startswith('t')"
   ]
  },
  {
   "cell_type": "code",
   "execution_count": 58,
   "id": "7e000b99",
   "metadata": {},
   "outputs": [
    {
     "data": {
      "text/plain": [
       "'This is a string ,, for trial'"
      ]
     },
     "execution_count": 58,
     "metadata": {},
     "output_type": "execute_result"
    }
   ],
   "source": [
    "pc"
   ]
  },
  {
   "cell_type": "code",
   "execution_count": 59,
   "id": "2661a55b",
   "metadata": {},
   "outputs": [
    {
     "data": {
      "text/plain": [
       "'This is a string ,, for practice'"
      ]
     },
     "execution_count": 59,
     "metadata": {},
     "output_type": "execute_result"
    }
   ],
   "source": [
    "# Replace (It will replace the old value with specified new value)\n",
    "\n",
    "pcr = pc.replace('trial', 'practice')\n",
    "pcr"
   ]
  },
  {
   "cell_type": "code",
   "execution_count": 60,
   "id": "a1529e12",
   "metadata": {},
   "outputs": [
    {
     "data": {
      "text/plain": [
       "'This is a string for practice'"
      ]
     },
     "execution_count": 60,
     "metadata": {},
     "output_type": "execute_result"
    }
   ],
   "source": [
    "pcr = pcr.replace(',, ', '')\n",
    "pcr"
   ]
  },
  {
   "cell_type": "code",
   "execution_count": 61,
   "id": "b7d68d60",
   "metadata": {},
   "outputs": [
    {
     "data": {
      "text/plain": [
       "'This  string for practice'"
      ]
     },
     "execution_count": 61,
     "metadata": {},
     "output_type": "execute_result"
    }
   ],
   "source": [
    "pcr = pcr.replace('is a', '')\n",
    "pcr"
   ]
  },
  {
   "cell_type": "code",
   "execution_count": 62,
   "id": "1ddd8c90",
   "metadata": {},
   "outputs": [
    {
     "data": {
      "text/plain": [
       "'This  string is for practice'"
      ]
     },
     "execution_count": 62,
     "metadata": {},
     "output_type": "execute_result"
    }
   ],
   "source": [
    "pcr = pcr.replace('string', 'string is')\n",
    "pcr"
   ]
  },
  {
   "cell_type": "code",
   "execution_count": 63,
   "id": "7f8e3383",
   "metadata": {},
   "outputs": [
    {
     "data": {
      "text/plain": [
       "'This string is for practice'"
      ]
     },
     "execution_count": 63,
     "metadata": {},
     "output_type": "execute_result"
    }
   ],
   "source": [
    "pcr  = pcr.replace('This ', 'This')\n",
    "pcr"
   ]
  },
  {
   "cell_type": "code",
   "execution_count": 64,
   "id": "6df87c3a",
   "metadata": {},
   "outputs": [
    {
     "data": {
      "text/plain": [
       "['This', 'string', 'is', 'for', 'practice']"
      ]
     },
     "execution_count": 64,
     "metadata": {},
     "output_type": "execute_result"
    }
   ],
   "source": [
    "# Split (It will separate the values)\n",
    "\n",
    "pcr.split(' ')"
   ]
  },
  {
   "cell_type": "code",
   "execution_count": 65,
   "id": "730d81f4",
   "metadata": {},
   "outputs": [
    {
     "data": {
      "text/plain": [
       "'pc,mobile,tablet,tv,music system'"
      ]
     },
     "execution_count": 65,
     "metadata": {},
     "output_type": "execute_result"
    }
   ],
   "source": [
    "pro = 'pc,mobile,tablet,tv,music system'\n",
    "pro"
   ]
  },
  {
   "cell_type": "code",
   "execution_count": 66,
   "id": "598e1ecc",
   "metadata": {},
   "outputs": [
    {
     "data": {
      "text/plain": [
       "['pc', 'mobile', 'tablet', 'tv', 'music system']"
      ]
     },
     "execution_count": 66,
     "metadata": {},
     "output_type": "execute_result"
    }
   ],
   "source": [
    "pro.split(',')"
   ]
  },
  {
   "cell_type": "code",
   "execution_count": 67,
   "id": "faecc44f",
   "metadata": {},
   "outputs": [
    {
     "data": {
      "text/plain": [
       "'PC,MOBILE,TABLET,TV,MUSIC SYSTEM'"
      ]
     },
     "execution_count": 67,
     "metadata": {},
     "output_type": "execute_result"
    }
   ],
   "source": [
    "# Swapcase (It will convert the lower case to upper case or upper case to lower of entire words)\n",
    "\n",
    "swap = pro.swapcase()\n",
    "swap"
   ]
  },
  {
   "cell_type": "code",
   "execution_count": 68,
   "id": "397ec73e",
   "metadata": {},
   "outputs": [
    {
     "data": {
      "text/plain": [
       "'pc,mobile,tablet,tv,music system'"
      ]
     },
     "execution_count": 68,
     "metadata": {},
     "output_type": "execute_result"
    }
   ],
   "source": [
    "# Lower (It will convert entire words to lower case)\n",
    "\n",
    "low = swap.lower()\n",
    "low"
   ]
  },
  {
   "cell_type": "code",
   "execution_count": 69,
   "id": "84edfd8f",
   "metadata": {},
   "outputs": [
    {
     "data": {
      "text/plain": [
       "'PC,MOBILE,TABLET,TV,MUSIC SYSTEM'"
      ]
     },
     "execution_count": 69,
     "metadata": {},
     "output_type": "execute_result"
    }
   ],
   "source": [
    "# Upper (It will convert entire words to upper case)\n",
    "\n",
    "upp = swap.upper()\n",
    "upp"
   ]
  },
  {
   "cell_type": "code",
   "execution_count": 70,
   "id": "cf56af99",
   "metadata": {},
   "outputs": [
    {
     "data": {
      "text/plain": [
       "'Pc,Mobile,Tablet,Tv,Music System'"
      ]
     },
     "execution_count": 70,
     "metadata": {},
     "output_type": "execute_result"
    }
   ],
   "source": [
    "# Title (It will convert the first alphabet of each word into upper case i.e into proper format)\n",
    "\n",
    "ti = upp.title()\n",
    "ti"
   ]
  },
  {
   "cell_type": "markdown",
   "id": "9c6c2660",
   "metadata": {},
   "source": [
    "---\n",
    "# Types of Data Structures\n",
    "\n",
    "A) Mutable Data Structure: (Once it is created, We can do the modification)\n",
    "\n",
    "    1. Lists\n",
    "    2. Dictionary\n",
    "    \n",
    "    \n",
    "B) Immutable Data Structure: (Once it is created, We can not do any change or modification)\n",
    "\n",
    "    i. Tuple\n",
    "    ii. Sets"
   ]
  },
  {
   "cell_type": "markdown",
   "id": "e00768ad",
   "metadata": {},
   "source": [
    "---\n",
    "**1. Lists**\n",
    "\n",
    "   - Lists are the built in data structures in the python.\n",
    "   - Lists are heterogeneous data structure.\n",
    "   - Lists are Mutable."
   ]
  },
  {
   "cell_type": "code",
   "execution_count": 71,
   "id": "b7ddd102",
   "metadata": {},
   "outputs": [
    {
     "data": {
      "text/plain": [
       "list"
      ]
     },
     "execution_count": 71,
     "metadata": {},
     "output_type": "execute_result"
    }
   ],
   "source": [
    "# Creating Lists (By this we can store different types of data types in single variable )\n",
    "\n",
    "lst = list()\n",
    "type(lst)"
   ]
  },
  {
   "cell_type": "markdown",
   "id": "267bc70e",
   "metadata": {},
   "source": [
    "**There are two methods to create list ds**\n",
    "\n",
    "1) Create with \"list\" keyword and \n",
    "\n",
    "2) Create with \"[ ]\" square brackets."
   ]
  },
  {
   "cell_type": "code",
   "execution_count": 72,
   "id": "f4343ffe",
   "metadata": {},
   "outputs": [
    {
     "data": {
      "text/plain": [
       "list"
      ]
     },
     "execution_count": 72,
     "metadata": {},
     "output_type": "execute_result"
    }
   ],
   "source": [
    "lst1 = []\n",
    "type(lst1)"
   ]
  },
  {
   "cell_type": "code",
   "execution_count": 73,
   "id": "a742a805",
   "metadata": {},
   "outputs": [
    {
     "data": {
      "text/plain": [
       "[10, 'raj', 878.1233, True, 7894, False]"
      ]
     },
     "execution_count": 73,
     "metadata": {},
     "output_type": "execute_result"
    }
   ],
   "source": [
    "# Add elements inside list\n",
    "\n",
    "lst = [10, 'raj', 878.1233, True, 7894, False]\n",
    "lst"
   ]
  },
  {
   "cell_type": "code",
   "execution_count": 74,
   "id": "a8271a5d",
   "metadata": {},
   "outputs": [
    {
     "data": {
      "text/plain": [
       "'raj'"
      ]
     },
     "execution_count": 74,
     "metadata": {},
     "output_type": "execute_result"
    }
   ],
   "source": [
    "# Accessing elements from a list\n",
    "\n",
    "lst[1]"
   ]
  },
  {
   "cell_type": "code",
   "execution_count": 75,
   "id": "5b47e75f",
   "metadata": {},
   "outputs": [
    {
     "data": {
      "text/plain": [
       "878.1233"
      ]
     },
     "execution_count": 75,
     "metadata": {},
     "output_type": "execute_result"
    }
   ],
   "source": [
    "lst[2]"
   ]
  },
  {
   "cell_type": "code",
   "execution_count": 76,
   "id": "c7de16f9",
   "metadata": {},
   "outputs": [
    {
     "data": {
      "text/plain": [
       "True"
      ]
     },
     "execution_count": 76,
     "metadata": {},
     "output_type": "execute_result"
    }
   ],
   "source": [
    "lst[3]"
   ]
  },
  {
   "cell_type": "markdown",
   "id": "c73abc8b",
   "metadata": {},
   "source": [
    "**Note:**\n",
    "1) In, Python indexing starts with 0(zero) and reverse indexing starts with -1(minus one).\n",
    "\n",
    "2) In, Python last index number is excluded."
   ]
  },
  {
   "cell_type": "code",
   "execution_count": 77,
   "id": "07869968",
   "metadata": {},
   "outputs": [
    {
     "data": {
      "text/plain": [
       "False"
      ]
     },
     "execution_count": 77,
     "metadata": {},
     "output_type": "execute_result"
    }
   ],
   "source": [
    "\n",
    "lst[-1]"
   ]
  },
  {
   "cell_type": "code",
   "execution_count": 78,
   "id": "654fb447",
   "metadata": {},
   "outputs": [
    {
     "data": {
      "text/plain": [
       "7894"
      ]
     },
     "execution_count": 78,
     "metadata": {},
     "output_type": "execute_result"
    }
   ],
   "source": [
    "lst[-2]"
   ]
  },
  {
   "cell_type": "code",
   "execution_count": 79,
   "id": "e8882e6b",
   "metadata": {},
   "outputs": [
    {
     "data": {
      "text/plain": [
       "True"
      ]
     },
     "execution_count": 79,
     "metadata": {},
     "output_type": "execute_result"
    }
   ],
   "source": [
    "lst[-3]"
   ]
  },
  {
   "cell_type": "code",
   "execution_count": 80,
   "id": "f6b16f79",
   "metadata": {},
   "outputs": [
    {
     "data": {
      "text/plain": [
       "[10, 'raj', 878.1233]"
      ]
     },
     "execution_count": 80,
     "metadata": {},
     "output_type": "execute_result"
    }
   ],
   "source": [
    "# Extract values from 10 to 878.1233\n",
    "\n",
    "lst[0:3]"
   ]
  },
  {
   "cell_type": "markdown",
   "id": "3a60a0b8",
   "metadata": {},
   "source": [
    "Note: In the Python last Index number is excluded."
   ]
  },
  {
   "cell_type": "code",
   "execution_count": 81,
   "id": "3c00b0fc",
   "metadata": {},
   "outputs": [
    {
     "data": {
      "text/plain": [
       "[10, 'raj', 878.1233, True, 7894, False, 'Machine Learning']"
      ]
     },
     "execution_count": 81,
     "metadata": {},
     "output_type": "execute_result"
    }
   ],
   "source": [
    "# Append (By this function we can add anything into the list and It will added to the end of the list )\n",
    "\n",
    "lst.append('Machine Learning')\n",
    "lst"
   ]
  },
  {
   "cell_type": "code",
   "execution_count": 82,
   "id": "c198dfcf",
   "metadata": {},
   "outputs": [
    {
     "data": {
      "text/plain": [
       "1"
      ]
     },
     "execution_count": 82,
     "metadata": {},
     "output_type": "execute_result"
    }
   ],
   "source": [
    "# Count (To check how many times specified value is occuring)\n",
    "\n",
    "lst.count('Machine Learning')"
   ]
  },
  {
   "cell_type": "code",
   "execution_count": 83,
   "id": "f8a4f3b6",
   "metadata": {},
   "outputs": [
    {
     "data": {
      "text/plain": [
       "1"
      ]
     },
     "execution_count": 83,
     "metadata": {},
     "output_type": "execute_result"
    }
   ],
   "source": [
    "lst.count(10)"
   ]
  },
  {
   "cell_type": "code",
   "execution_count": 84,
   "id": "43876825",
   "metadata": {},
   "outputs": [
    {
     "data": {
      "text/plain": [
       "0"
      ]
     },
     "execution_count": 84,
     "metadata": {},
     "output_type": "execute_result"
    }
   ],
   "source": [
    "lst.count(5)"
   ]
  },
  {
   "cell_type": "code",
   "execution_count": 85,
   "id": "08e346fb",
   "metadata": {},
   "outputs": [
    {
     "data": {
      "text/plain": [
       "6"
      ]
     },
     "execution_count": 85,
     "metadata": {},
     "output_type": "execute_result"
    }
   ],
   "source": [
    "# Index (It will return the Index number of specified value)\n",
    "\n",
    "lst.index('Machine Learning')"
   ]
  },
  {
   "cell_type": "code",
   "execution_count": 86,
   "id": "76e6046d",
   "metadata": {},
   "outputs": [
    {
     "data": {
      "text/plain": [
       "1"
      ]
     },
     "execution_count": 86,
     "metadata": {},
     "output_type": "execute_result"
    }
   ],
   "source": [
    "lst.index('raj')"
   ]
  },
  {
   "cell_type": "code",
   "execution_count": 87,
   "id": "1cd3c1d0",
   "metadata": {},
   "outputs": [
    {
     "data": {
      "text/plain": [
       "['Hey', 10, 'raj', 878.1233, True, 7894, False, 'Machine Learning']"
      ]
     },
     "execution_count": 87,
     "metadata": {},
     "output_type": "execute_result"
    }
   ],
   "source": [
    "# Insert (It will add the values at the specified index number)\n",
    "\n",
    "lst.insert(0, 'Hey')\n",
    "lst"
   ]
  },
  {
   "cell_type": "code",
   "execution_count": 88,
   "id": "acf8f857",
   "metadata": {},
   "outputs": [
    {
     "data": {
      "text/plain": [
       "['Hey', 10, 'AI', 'raj', 878.1233, True, 7894, False, 'Machine Learning']"
      ]
     },
     "execution_count": 88,
     "metadata": {},
     "output_type": "execute_result"
    }
   ],
   "source": [
    "lst.insert(2, 'AI')\n",
    "lst"
   ]
  },
  {
   "cell_type": "code",
   "execution_count": 89,
   "id": "f8d83ced",
   "metadata": {},
   "outputs": [
    {
     "data": {
      "text/plain": [
       "['Hey', 10, 'AI', 878.1233, True, 7894, False, 'Machine Learning']"
      ]
     },
     "execution_count": 89,
     "metadata": {},
     "output_type": "execute_result"
    }
   ],
   "source": [
    "# Pop (It will remove the last value from the list)\n",
    "\n",
    "lst.pop(3)\n",
    "lst"
   ]
  },
  {
   "cell_type": "code",
   "execution_count": 90,
   "id": "3ebd8d42",
   "metadata": {},
   "outputs": [
    {
     "data": {
      "text/plain": [
       "['Hey', 10, 'AI', 878.1233, True, 7894, 'Machine Learning']"
      ]
     },
     "execution_count": 90,
     "metadata": {},
     "output_type": "execute_result"
    }
   ],
   "source": [
    "lst.pop(-2)\n",
    "lst"
   ]
  },
  {
   "cell_type": "code",
   "execution_count": 91,
   "id": "cc7147a4",
   "metadata": {},
   "outputs": [
    {
     "data": {
      "text/plain": [
       "['Machine Learning', 7894, True, 878.1233, 'AI', 10, 'Hey']"
      ]
     },
     "execution_count": 91,
     "metadata": {},
     "output_type": "execute_result"
    }
   ],
   "source": [
    "# Reverse (It will return the reverse format of the list)\n",
    "\n",
    "lst.reverse()\n",
    "lst"
   ]
  },
  {
   "cell_type": "code",
   "execution_count": 92,
   "id": "535a064d",
   "metadata": {},
   "outputs": [
    {
     "data": {
      "text/plain": [
       "['Machine Learning', 7894, True, 878.1233, 'AI', 10]"
      ]
     },
     "execution_count": 92,
     "metadata": {},
     "output_type": "execute_result"
    }
   ],
   "source": [
    "# Remove (It will remove the specified value from the list)\n",
    "\n",
    "lst.remove('Hey')\n",
    "lst"
   ]
  },
  {
   "cell_type": "code",
   "execution_count": 93,
   "id": "07c22109",
   "metadata": {},
   "outputs": [
    {
     "data": {
      "text/plain": [
       "['Machine Learning', 7894, True, 878.1233, 'AI']"
      ]
     },
     "execution_count": 93,
     "metadata": {},
     "output_type": "execute_result"
    }
   ],
   "source": [
    "lst.remove(10)\n",
    "lst"
   ]
  },
  {
   "cell_type": "code",
   "execution_count": 94,
   "id": "5078a73f",
   "metadata": {},
   "outputs": [
    {
     "data": {
      "text/plain": [
       "['Machine Learning', 7894, 'Deep Learning', 878.1233, 'AI']"
      ]
     },
     "execution_count": 94,
     "metadata": {},
     "output_type": "execute_result"
    }
   ],
   "source": [
    "# Replacing elements from lists\n",
    "\n",
    "lst[2] = 'Deep Learning'\n",
    "lst"
   ]
  },
  {
   "cell_type": "markdown",
   "id": "7e475ce3",
   "metadata": {},
   "source": [
    "---\n",
    "**i. Tuple**\n",
    "\n",
    "   - Tuples are ordered and heterogeneous data structure.\n",
    "   - Tuples are immutable."
   ]
  },
  {
   "cell_type": "code",
   "execution_count": 95,
   "id": "d48b1a88",
   "metadata": {},
   "outputs": [
    {
     "data": {
      "text/plain": [
       "tuple"
      ]
     },
     "execution_count": 95,
     "metadata": {},
     "output_type": "execute_result"
    }
   ],
   "source": [
    "# Create a Tuple\n",
    "\n",
    "tp = ()\n",
    "type(tp)"
   ]
  },
  {
   "cell_type": "markdown",
   "id": "805e21c2",
   "metadata": {},
   "source": [
    "**There are two methods to create tuple ds**\n",
    "\n",
    "1) Create with \"tuple\" keyword and \n",
    "\n",
    "2) Create with \"( )\" square brackets."
   ]
  },
  {
   "cell_type": "code",
   "execution_count": 96,
   "id": "48261aed",
   "metadata": {},
   "outputs": [
    {
     "data": {
      "text/plain": [
       "tuple"
      ]
     },
     "execution_count": 96,
     "metadata": {},
     "output_type": "execute_result"
    }
   ],
   "source": [
    "tp1 = tuple()\n",
    "type(tp1)"
   ]
  },
  {
   "cell_type": "code",
   "execution_count": 97,
   "id": "dc547271",
   "metadata": {},
   "outputs": [
    {
     "data": {
      "text/plain": [
       "(8, 'dstuple', 100.99, True, 'Royal', 'Royal')"
      ]
     },
     "execution_count": 97,
     "metadata": {},
     "output_type": "execute_result"
    }
   ],
   "source": [
    "tp = (8, 'dstuple', 100.99, True, 'Royal', 'Royal')\n",
    "tp"
   ]
  },
  {
   "cell_type": "code",
   "execution_count": 98,
   "id": "dc29f097",
   "metadata": {},
   "outputs": [
    {
     "data": {
      "text/plain": [
       "2"
      ]
     },
     "execution_count": 98,
     "metadata": {},
     "output_type": "execute_result"
    }
   ],
   "source": [
    "# Count\n",
    "\n",
    "tp.count('Royal')"
   ]
  },
  {
   "cell_type": "code",
   "execution_count": 99,
   "id": "cbb1327e",
   "metadata": {},
   "outputs": [
    {
     "data": {
      "text/plain": [
       "1"
      ]
     },
     "execution_count": 99,
     "metadata": {},
     "output_type": "execute_result"
    }
   ],
   "source": [
    "# Index\n",
    "\n",
    "tp.index('dstuple')"
   ]
  },
  {
   "cell_type": "code",
   "execution_count": 100,
   "id": "681baa55",
   "metadata": {},
   "outputs": [
    {
     "data": {
      "text/plain": [
       "'Royal'"
      ]
     },
     "execution_count": 100,
     "metadata": {},
     "output_type": "execute_result"
    }
   ],
   "source": [
    "# Accessing elements from tuple\n",
    "\n",
    "tp[4]"
   ]
  },
  {
   "cell_type": "code",
   "execution_count": 101,
   "id": "18a17a67",
   "metadata": {},
   "outputs": [
    {
     "data": {
      "text/plain": [
       "100.99"
      ]
     },
     "execution_count": 101,
     "metadata": {},
     "output_type": "execute_result"
    }
   ],
   "source": [
    "tp[2]"
   ]
  },
  {
   "cell_type": "code",
   "execution_count": 102,
   "id": "db8114ce",
   "metadata": {},
   "outputs": [
    {
     "data": {
      "text/plain": [
       "list"
      ]
     },
     "execution_count": 102,
     "metadata": {},
     "output_type": "execute_result"
    }
   ],
   "source": [
    "# Replacing elements from tuple data structure\n",
    "\n",
    "'''Note: Convert Tuple data structure into List data structure and\n",
    "do the changes what you want and again convert into the Tuple data structure (Use Typecasting to convert)'''\n",
    "\n",
    "lstz = list(tp)\n",
    "type(lstz)"
   ]
  },
  {
   "cell_type": "code",
   "execution_count": 103,
   "id": "f0ac5fae",
   "metadata": {},
   "outputs": [
    {
     "data": {
      "text/plain": [
       "['immutable', 'dstuple', 100.99, True, 'Royal', 'Royal']"
      ]
     },
     "execution_count": 103,
     "metadata": {},
     "output_type": "execute_result"
    }
   ],
   "source": [
    "lstz[0] = 'immutable'\n",
    "lstz"
   ]
  },
  {
   "cell_type": "code",
   "execution_count": 104,
   "id": "ee6f7916",
   "metadata": {},
   "outputs": [
    {
     "data": {
      "text/plain": [
       "['immutable', 'dstuple', 100.99, True, 'Royal', 'Royal', 500]"
      ]
     },
     "execution_count": 104,
     "metadata": {},
     "output_type": "execute_result"
    }
   ],
   "source": [
    "lstz.append(500)\n",
    "lstz"
   ]
  },
  {
   "cell_type": "code",
   "execution_count": 105,
   "id": "8cc837fb",
   "metadata": {},
   "outputs": [
    {
     "data": {
      "text/plain": [
       "('immutable', 'dstuple', 100.99, True, 'Royal', 'Royal', 500)"
      ]
     },
     "execution_count": 105,
     "metadata": {},
     "output_type": "execute_result"
    }
   ],
   "source": [
    "tpd = tuple(lstz)\n",
    "tpd"
   ]
  },
  {
   "cell_type": "code",
   "execution_count": 106,
   "id": "05f0629f",
   "metadata": {},
   "outputs": [
    {
     "data": {
      "text/plain": [
       "tuple"
      ]
     },
     "execution_count": 106,
     "metadata": {},
     "output_type": "execute_result"
    }
   ],
   "source": [
    "type(tpd)"
   ]
  },
  {
   "cell_type": "markdown",
   "id": "0684b0cb",
   "metadata": {},
   "source": [
    "---\n",
    "**2. Dictionary**\n",
    "\n",
    "   - Python dictionaries are ordered collection of items.\n",
    "   - Dictionary is mutable data structure\n",
    "   - It has key and value pair"
   ]
  },
  {
   "cell_type": "code",
   "execution_count": 107,
   "id": "4f3cdcdd",
   "metadata": {},
   "outputs": [
    {
     "data": {
      "text/plain": [
       "dict"
      ]
     },
     "execution_count": 107,
     "metadata": {},
     "output_type": "execute_result"
    }
   ],
   "source": [
    "# Creating  an empty dictionary\n",
    "\n",
    "di = {}\n",
    "type(di)"
   ]
  },
  {
   "cell_type": "markdown",
   "id": "babd91bf",
   "metadata": {},
   "source": [
    "**There are two methods to create dictionary ds**\n",
    "\n",
    "1) Create with \"dict\" keyword and \n",
    "\n",
    "2) Create with \"{ }\" square brackets."
   ]
  },
  {
   "cell_type": "code",
   "execution_count": 108,
   "id": "f7ceec30",
   "metadata": {},
   "outputs": [
    {
     "data": {
      "text/plain": [
       "dict"
      ]
     },
     "execution_count": 108,
     "metadata": {},
     "output_type": "execute_result"
    }
   ],
   "source": [
    "di1 = dict()\n",
    "type(di1)"
   ]
  },
  {
   "cell_type": "code",
   "execution_count": 109,
   "id": "907d197e",
   "metadata": {},
   "outputs": [
    {
     "data": {
      "text/plain": [
       "{10: 'Python', 20: 'Machine Learning'}"
      ]
     },
     "execution_count": 109,
     "metadata": {},
     "output_type": "execute_result"
    }
   ],
   "source": [
    "# Adding elements in a dictionary\n",
    "\n",
    "di = {10: 'Python', 20: 'Machine Learning'}\n",
    "#     |     |\n",
    "#   Key   VAlue\n",
    "di"
   ]
  },
  {
   "cell_type": "code",
   "execution_count": 110,
   "id": "e5f9ebb4",
   "metadata": {},
   "outputs": [
    {
     "data": {
      "text/plain": [
       "'Machine Learning'"
      ]
     },
     "execution_count": 110,
     "metadata": {},
     "output_type": "execute_result"
    }
   ],
   "source": [
    "# Get (Return the value for key if key is in the dictionary)\n",
    "\n",
    "di.get(20)"
   ]
  },
  {
   "cell_type": "code",
   "execution_count": 111,
   "id": "9cfdf518",
   "metadata": {},
   "outputs": [
    {
     "data": {
      "text/plain": [
       "'Python'"
      ]
     },
     "execution_count": 111,
     "metadata": {},
     "output_type": "execute_result"
    }
   ],
   "source": [
    "di.get(10)"
   ]
  },
  {
   "cell_type": "markdown",
   "id": "d051fd8b",
   "metadata": {},
   "source": [
    "Note: Key should be Unique, we can not repeat/duplicate key."
   ]
  },
  {
   "cell_type": "code",
   "execution_count": 112,
   "id": "c9ac93f2",
   "metadata": {},
   "outputs": [
    {
     "data": {
      "text/plain": [
       "dict_items([(10, 'Python'), (20, 'Machine Learning')])"
      ]
     },
     "execution_count": 112,
     "metadata": {},
     "output_type": "execute_result"
    }
   ],
   "source": [
    "# Items (It will return the all items which are presented in dictionary)\n",
    "\n",
    "di.items()"
   ]
  },
  {
   "cell_type": "code",
   "execution_count": 113,
   "id": "f090be2f",
   "metadata": {},
   "outputs": [
    {
     "data": {
      "text/plain": [
       "dict_keys([10, 20])"
      ]
     },
     "execution_count": 113,
     "metadata": {},
     "output_type": "execute_result"
    }
   ],
   "source": [
    "# Keys (It will returns the keys)\n",
    "\n",
    "di.keys()"
   ]
  },
  {
   "cell_type": "code",
   "execution_count": 114,
   "id": "02e3e99d",
   "metadata": {},
   "outputs": [
    {
     "data": {
      "text/plain": [
       "{10: 'Python',\n",
       " 20: 'Machine Learning',\n",
       " 30: 'Deep Learning',\n",
       " 40: 'Time',\n",
       " 50: 'NLP'}"
      ]
     },
     "execution_count": 114,
     "metadata": {},
     "output_type": "execute_result"
    }
   ],
   "source": [
    "# Update (Adding values in dictionary)\n",
    "\n",
    "di.update({30: 'Deep Learning',40: 'Time',50: 'NLP'})\n",
    "di"
   ]
  },
  {
   "cell_type": "code",
   "execution_count": 115,
   "id": "6121a20d",
   "metadata": {},
   "outputs": [
    {
     "data": {
      "text/plain": [
       "'Time'"
      ]
     },
     "execution_count": 115,
     "metadata": {},
     "output_type": "execute_result"
    }
   ],
   "source": [
    "# Pop (It will remove specified key and return the corresponding value)\n",
    "\n",
    "di.pop(40)\n",
    "#      |\n",
    "#     Key"
   ]
  },
  {
   "cell_type": "code",
   "execution_count": 116,
   "id": "2bddf40c",
   "metadata": {},
   "outputs": [
    {
     "data": {
      "text/plain": [
       "{10: 'Python', 20: 'Machine Learning', 30: 'Deep Learning', 50: 'NLP'}"
      ]
     },
     "execution_count": 116,
     "metadata": {},
     "output_type": "execute_result"
    }
   ],
   "source": [
    "di"
   ]
  },
  {
   "cell_type": "code",
   "execution_count": 117,
   "id": "acdf2761",
   "metadata": {},
   "outputs": [
    {
     "data": {
      "text/plain": [
       "dict_values(['Python', 'Machine Learning', 'Deep Learning', 'NLP'])"
      ]
     },
     "execution_count": 117,
     "metadata": {},
     "output_type": "execute_result"
    }
   ],
   "source": [
    "# Values (To check the list of values not the keys)\n",
    "\n",
    "di.values()"
   ]
  },
  {
   "cell_type": "markdown",
   "id": "35531142",
   "metadata": {},
   "source": [
    "---\n",
    "**ii. Set**\n",
    "\n",
    " - Set is a collection which is unordered, unindexed.\n",
    " - Set is immutable.\n",
    " - Sets are unordered, so you cannot be sure in which order the items will appear.\n",
    " - Sets do not allow duplicate values.\n",
    " - Once  a set is created, you cannot change its items, but you can remove items and add new items.\n",
    " - As sets are unordered, they do not support indexing and slicing operations."
   ]
  },
  {
   "cell_type": "code",
   "execution_count": 118,
   "id": "9effdf95",
   "metadata": {},
   "outputs": [
    {
     "data": {
      "text/plain": [
       "set"
      ]
     },
     "execution_count": 118,
     "metadata": {},
     "output_type": "execute_result"
    }
   ],
   "source": [
    "# Creating an empty set\n",
    "\n",
    "st1 = {6, 10, 20, 30, 50, 87}\n",
    "type(st1)"
   ]
  },
  {
   "cell_type": "markdown",
   "id": "c7cbb367",
   "metadata": {},
   "source": [
    "**There are two methods to create set ds**\n",
    "\n",
    "1) Create with \"set\" keyword and \n",
    "\n",
    "2) Create with \"{ }\" square brackets. (How python will identify it is set or dictionary? Ans is dictionary ds has key & value pair and in set doesn't.)"
   ]
  },
  {
   "cell_type": "code",
   "execution_count": 119,
   "id": "1cad1769",
   "metadata": {},
   "outputs": [
    {
     "data": {
      "text/plain": [
       "set"
      ]
     },
     "execution_count": 119,
     "metadata": {},
     "output_type": "execute_result"
    }
   ],
   "source": [
    "st = set()\n",
    "type(st)"
   ]
  },
  {
   "cell_type": "code",
   "execution_count": 120,
   "id": "575be4a4",
   "metadata": {},
   "outputs": [
    {
     "data": {
      "text/plain": [
       "{6, 10, 20, 30, 50, 87}"
      ]
     },
     "execution_count": 120,
     "metadata": {},
     "output_type": "execute_result"
    }
   ],
   "source": [
    "# Does not allow duplicate items\n",
    "\n",
    "st = {10, 10, 6, 10, 20, 30, 50, 87}\n",
    "st"
   ]
  },
  {
   "cell_type": "markdown",
   "id": "2fd810e7",
   "metadata": {},
   "source": [
    "Note: We have three times 10 but in the output it return once, it means set does not allow duplicate items"
   ]
  },
  {
   "cell_type": "code",
   "execution_count": 121,
   "id": "fc9dadd1",
   "metadata": {},
   "outputs": [
    {
     "ename": "TypeError",
     "evalue": "'set' object is not subscriptable",
     "output_type": "error",
     "traceback": [
      "\u001b[1;31m---------------------------------------------------------------------------\u001b[0m",
      "\u001b[1;31mTypeError\u001b[0m                                 Traceback (most recent call last)",
      "Cell \u001b[1;32mIn[121], line 3\u001b[0m\n\u001b[0;32m      1\u001b[0m \u001b[38;5;66;03m# Does not support indexing\u001b[39;00m\n\u001b[1;32m----> 3\u001b[0m st[\u001b[38;5;241m2\u001b[39m]\n",
      "\u001b[1;31mTypeError\u001b[0m: 'set' object is not subscriptable"
     ]
    }
   ],
   "source": [
    "# Does not support indexing\n",
    "\n",
    "st[2]"
   ]
  },
  {
   "cell_type": "code",
   "execution_count": null,
   "id": "e2c44a82",
   "metadata": {},
   "outputs": [],
   "source": [
    "# Add (It will add specified values at any location)\n",
    "\n",
    "st.add(500)\n",
    "\n",
    "# Note: this 500 value is added at any location\n",
    "\n",
    "st"
   ]
  },
  {
   "cell_type": "code",
   "execution_count": null,
   "id": "1fc3d1f6",
   "metadata": {},
   "outputs": [],
   "source": [
    "# Pop\n",
    "\n",
    "st.pop()\n",
    "\n",
    "# Note: By this pop function randomly any value is removed from set data structure"
   ]
  },
  {
   "cell_type": "code",
   "execution_count": 122,
   "id": "053927d3",
   "metadata": {},
   "outputs": [
    {
     "data": {
      "text/plain": [
       "{6, 10, 20, 30, 50, 87}"
      ]
     },
     "execution_count": 122,
     "metadata": {},
     "output_type": "execute_result"
    }
   ],
   "source": [
    "st"
   ]
  },
  {
   "cell_type": "code",
   "execution_count": null,
   "id": "11bfb595",
   "metadata": {},
   "outputs": [],
   "source": []
  },
  {
   "cell_type": "markdown",
   "id": "29530bf5",
   "metadata": {},
   "source": [
    "---\n",
    "# * WHAT I LEARNED ?\n",
    "-->\n",
    "1) Variable\n",
    "2) Memory location of variable (id)\n",
    "3) Some arithmetic operators +(Addition), -(Substraction), *(Multiplication), /(Division), %(Remainder)\n",
    "4) Types of Comment (Single Line Comment, Multi Line Comment)\n",
    "5) Data Types (Integer, Float, String, Boolean)\n",
    "6) Check the data type\n",
    "7) Typecasting\n",
    "8) Capitalize function (It will capitalize the first aplphabet of first word of the sentence)\n",
    "9) Join function (This function will add the specified symbol after each alphabet)\n",
    "10) Index function (It will return the Index number of specified value)\n",
    "11) Startswith (It will return the specified value is starting with or not)\n",
    "12) Replace (It will replace the old value with specified new value)\n",
    "13) Split (It will separate the values)\n",
    "14) Swapcase (It will convert the lower case to upper case or upper case to lower of entire words)\n",
    "15) Lower (It will convert entire words to lower case)\n",
    "16) Upper (It will convert entire words to upper case)\n",
    "17) Title (It will convert the first alphabet of each word into upper case i.e into proper format)\n",
    "18) Types of Data Structures (Lists, Dictionary, Tuple, Sets)\n",
    "19) Append (By this function we can add anything into the list and It will added to the end of the list )\n",
    "20) Count (To check how many times specified value is occuring)\n",
    "21) Index (It will return the Index number of specified value)\n",
    "22) Insert (It will add the values at the specified index number)\n",
    "23) Pop (It will remove the last value from the list)\n",
    "24) Reverse (It will return the reverse format of the list)\n",
    "25) Remove (It will remove the specified value from the list)\n",
    "26) Replacing elements from lists\n",
    "27) Get (Return the value for key if key is in the dictionary)\n",
    "28) Items (It will return the all items which are presented in dictionary)\n",
    "29) Keys (It will returns the keys)\n",
    "30) Update (Adding values in dictionary)\n",
    "31) Values (To check the list of values not the keys)\n",
    "32) Add (It will add specified values at any location)\n",
    "etc."
   ]
  },
  {
   "cell_type": "code",
   "execution_count": null,
   "id": "7f65ed3a",
   "metadata": {},
   "outputs": [],
   "source": []
  },
  {
   "cell_type": "markdown",
   "id": "f310010a",
   "metadata": {},
   "source": [
    "# --------------------------------------------Thank You--------------------------------------------"
   ]
  },
  {
   "cell_type": "code",
   "execution_count": null,
   "id": "399eb87c",
   "metadata": {},
   "outputs": [],
   "source": []
  }
 ],
 "metadata": {
  "kernelspec": {
   "display_name": "Python 3 (ipykernel)",
   "language": "python",
   "name": "python3"
  },
  "language_info": {
   "codemirror_mode": {
    "name": "ipython",
    "version": 3
   },
   "file_extension": ".py",
   "mimetype": "text/x-python",
   "name": "python",
   "nbconvert_exporter": "python",
   "pygments_lexer": "ipython3",
   "version": "3.11.3"
  }
 },
 "nbformat": 4,
 "nbformat_minor": 5
}
