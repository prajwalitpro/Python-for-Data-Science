{
 "cells": [
  {
   "cell_type": "markdown",
   "id": "b6c55a1c",
   "metadata": {},
   "source": [
    "# Numpy\n",
    "\n",
    "- NumPy is a general-purpose array-processing package.\n",
    "- Numpy was created to work with multidmensional arrays.\n",
    "- It is the fundamental package for scientific computing with Python.\n",
    "- It is open-source library."
   ]
  },
  {
   "cell_type": "markdown",
   "id": "aa77efd3",
   "metadata": {},
   "source": [
    "# Why Use NumPy?\n",
    "- In Python we have lists that serve the purpose of arrays, but they are slow to process.\n",
    "\n",
    "- NumPy aims to provide an array object that is up to 50x faster than traditional Python lists.\n",
    "\n",
    "- The array object in NumPy is called ndarray, it provides a lot of supporting functions that make working with ndarray very easy.\n",
    "\n",
    "- Arrays are very frequently used in data science, where speed and resources are very important."
   ]
  },
  {
   "cell_type": "code",
   "execution_count": 1,
   "id": "31a1f430",
   "metadata": {},
   "outputs": [
    {
     "name": "stdout",
     "output_type": "stream",
     "text": [
      "Requirement already satisfied: numpy in c:\\users\\sures\\anaconda3\\lib\\site-packages (1.24.3)\n"
     ]
    }
   ],
   "source": [
    "# Installing Numpy\n",
    "\n",
    "!pip install numpy"
   ]
  },
  {
   "cell_type": "code",
   "execution_count": 2,
   "id": "d1adccfe",
   "metadata": {
    "ExecuteTime": {
     "end_time": "2022-11-29T04:50:05.591487Z",
     "start_time": "2022-11-29T04:50:01.611124Z"
    }
   },
   "outputs": [],
   "source": [
    "# Importing Numpy Library\n",
    "\n",
    "import numpy as np"
   ]
  },
  {
   "cell_type": "markdown",
   "id": "090df446",
   "metadata": {},
   "source": [
    "**Array Data Structure (Homogeneous)**"
   ]
  },
  {
   "cell_type": "code",
   "execution_count": 3,
   "id": "171b2621",
   "metadata": {
    "ExecuteTime": {
     "end_time": "2022-11-29T04:52:33.779595Z",
     "start_time": "2022-11-29T04:52:33.759003Z"
    }
   },
   "outputs": [],
   "source": [
    "# Array Creation\n",
    "\n",
    "x = np.array(10)"
   ]
  },
  {
   "cell_type": "code",
   "execution_count": 4,
   "id": "532adad2",
   "metadata": {},
   "outputs": [
    {
     "data": {
      "text/plain": [
       "numpy.ndarray"
      ]
     },
     "execution_count": 4,
     "metadata": {},
     "output_type": "execute_result"
    }
   ],
   "source": [
    "type(x)"
   ]
  },
  {
   "cell_type": "code",
   "execution_count": 5,
   "id": "25d7e6c0",
   "metadata": {},
   "outputs": [
    {
     "data": {
      "text/plain": [
       "0"
      ]
     },
     "execution_count": 5,
     "metadata": {},
     "output_type": "execute_result"
    }
   ],
   "source": [
    "# To check dimension of array\n",
    "\n",
    "x.ndim"
   ]
  },
  {
   "cell_type": "code",
   "execution_count": 6,
   "id": "ed58490f",
   "metadata": {},
   "outputs": [
    {
     "data": {
      "text/plain": [
       "0"
      ]
     },
     "execution_count": 6,
     "metadata": {},
     "output_type": "execute_result"
    }
   ],
   "source": [
    "# Zero dimensional array\n",
    "\n",
    "x.ndim"
   ]
  },
  {
   "cell_type": "code",
   "execution_count": 7,
   "id": "33d89455",
   "metadata": {},
   "outputs": [],
   "source": [
    "# One dimensional array (Note: One sqaure bracket for one dimension, two [[]] for two dimension and so on)\n",
    "\n",
    "x1 = np.array([10,20,30,40,50])"
   ]
  },
  {
   "cell_type": "code",
   "execution_count": 8,
   "id": "cd6a7ec5",
   "metadata": {
    "ExecuteTime": {
     "end_time": "2022-11-29T04:53:57.966774Z",
     "start_time": "2022-11-29T04:53:57.949113Z"
    }
   },
   "outputs": [
    {
     "name": "stdout",
     "output_type": "stream",
     "text": [
      "<class 'numpy.ndarray'>\n"
     ]
    },
    {
     "data": {
      "text/plain": [
       "1"
      ]
     },
     "execution_count": 8,
     "metadata": {},
     "output_type": "execute_result"
    }
   ],
   "source": [
    "print(type(x1))\n",
    "x1.ndim"
   ]
  },
  {
   "cell_type": "code",
   "execution_count": 9,
   "id": "63162fb5",
   "metadata": {},
   "outputs": [],
   "source": [
    "# Two dimensional array\n",
    "\n",
    "x2 = np.array([[10,20,30,40,50,60,70,80]])"
   ]
  },
  {
   "cell_type": "code",
   "execution_count": 10,
   "id": "f3bf75e0",
   "metadata": {
    "ExecuteTime": {
     "end_time": "2022-11-29T04:54:29.555570Z",
     "start_time": "2022-11-29T04:54:29.544825Z"
    }
   },
   "outputs": [
    {
     "name": "stdout",
     "output_type": "stream",
     "text": [
      "<class 'numpy.ndarray'>\n"
     ]
    },
    {
     "data": {
      "text/plain": [
       "2"
      ]
     },
     "execution_count": 10,
     "metadata": {},
     "output_type": "execute_result"
    }
   ],
   "source": [
    "print(type(x2))\n",
    "x2.ndim"
   ]
  },
  {
   "cell_type": "code",
   "execution_count": 11,
   "id": "0905f753",
   "metadata": {},
   "outputs": [],
   "source": [
    "# Three dimensional array\n",
    "\n",
    "x3 = np.array([[[10,20,30,40,50,60,70,80,90,100]]])"
   ]
  },
  {
   "cell_type": "code",
   "execution_count": 12,
   "id": "8fc45c90",
   "metadata": {
    "ExecuteTime": {
     "end_time": "2022-11-29T04:55:54.666049Z",
     "start_time": "2022-11-29T04:55:54.650752Z"
    }
   },
   "outputs": [
    {
     "name": "stdout",
     "output_type": "stream",
     "text": [
      "<class 'numpy.ndarray'>\n"
     ]
    },
    {
     "data": {
      "text/plain": [
       "3"
      ]
     },
     "execution_count": 12,
     "metadata": {},
     "output_type": "execute_result"
    }
   ],
   "source": [
    "print(type(x3))\n",
    "x3.ndim"
   ]
  },
  {
   "cell_type": "code",
   "execution_count": 13,
   "id": "b14366dc",
   "metadata": {},
   "outputs": [],
   "source": [
    "# Change the data type of the array elements."
   ]
  },
  {
   "cell_type": "code",
   "execution_count": 14,
   "id": "85149403",
   "metadata": {
    "ExecuteTime": {
     "end_time": "2022-11-29T04:57:52.859705Z",
     "start_time": "2022-11-29T04:57:52.847167Z"
    }
   },
   "outputs": [
    {
     "data": {
      "text/plain": [
       "array(['1', '2', '3', '4', '5', '6', '7', '8', '9', '10'], dtype='<U2')"
      ]
     },
     "execution_count": 14,
     "metadata": {},
     "output_type": "execute_result"
    }
   ],
   "source": [
    "b = np.array([1,2,3,4,5,6,7,8,9,10], dtype = 'str')\n",
    "b"
   ]
  },
  {
   "cell_type": "code",
   "execution_count": 15,
   "id": "7fb16796",
   "metadata": {
    "ExecuteTime": {
     "end_time": "2022-11-29T04:57:56.114886Z",
     "start_time": "2022-11-29T04:57:56.108622Z"
    }
   },
   "outputs": [
    {
     "data": {
      "text/plain": [
       "array([ 1.,  2.,  3.,  4.,  5.,  6.,  7.,  8.,  9., 10.])"
      ]
     },
     "execution_count": 15,
     "metadata": {},
     "output_type": "execute_result"
    }
   ],
   "source": [
    "b.astype(float)"
   ]
  },
  {
   "cell_type": "code",
   "execution_count": 16,
   "id": "afbbe1ba",
   "metadata": {
    "ExecuteTime": {
     "end_time": "2022-11-29T04:59:54.170835Z",
     "start_time": "2022-11-29T04:59:54.151760Z"
    }
   },
   "outputs": [
    {
     "data": {
      "text/plain": [
       "array([ 1.,  2.,  3.,  4.,  5.,  6.,  7.,  8.,  9., 10.])"
      ]
     },
     "execution_count": 16,
     "metadata": {},
     "output_type": "execute_result"
    }
   ],
   "source": [
    "b = np.array([1,2,3,4,5,6,7,8,9,10], dtype = 'float')\n",
    "b"
   ]
  },
  {
   "cell_type": "markdown",
   "id": "2ff2c8a5",
   "metadata": {},
   "source": [
    "---\n",
    "# Other ways of creating an array\n",
    "1. arange\n",
    "2. linspace\n",
    "3. zeros\n",
    "4. ones\n",
    "5. random"
   ]
  },
  {
   "cell_type": "markdown",
   "id": "c0bd86c4",
   "metadata": {
    "ExecuteTime": {
     "end_time": "2022-11-29T05:03:42.370860Z",
     "start_time": "2022-11-29T05:03:42.352955Z"
    }
   },
   "source": [
    "**1. arange**\n",
    "\n",
    "Return evenly spaced values within a given interval.\n",
    "\n",
    "**Syntax:** np.arange([start,] stop[, step,], dtype=None, *, like=None)"
   ]
  },
  {
   "cell_type": "code",
   "execution_count": 17,
   "id": "f7e04ba3",
   "metadata": {
    "ExecuteTime": {
     "end_time": "2022-11-29T05:06:52.583134Z",
     "start_time": "2022-11-29T05:06:52.562861Z"
    },
    "scrolled": true
   },
   "outputs": [
    {
     "data": {
      "text/plain": [
       "array([10, 11, 12, 13, 14, 15, 16, 17, 18, 19, 20])"
      ]
     },
     "execution_count": 17,
     "metadata": {},
     "output_type": "execute_result"
    }
   ],
   "source": [
    "c =np.arange(10,21)\n",
    "c"
   ]
  },
  {
   "cell_type": "code",
   "execution_count": 18,
   "id": "3433ab83",
   "metadata": {},
   "outputs": [
    {
     "data": {
      "text/plain": [
       "array([11, 13, 15, 17, 19, 21])"
      ]
     },
     "execution_count": 18,
     "metadata": {},
     "output_type": "execute_result"
    }
   ],
   "source": [
    "a = np.arange(11,22,2)\n",
    "a"
   ]
  },
  {
   "cell_type": "markdown",
   "id": "19c28991",
   "metadata": {},
   "source": [
    "**2. linspace**\n",
    "\n",
    "Return evenly spaced numbers over a specified interval.\n",
    "\n",
    "**Syntax:** np.linspace(start, stop, num=50, endpoint=True, retstep=False, dtype=None, axis=0)"
   ]
  },
  {
   "cell_type": "code",
   "execution_count": 19,
   "id": "12271dea",
   "metadata": {
    "ExecuteTime": {
     "end_time": "2022-11-29T05:08:21.116502Z",
     "start_time": "2022-11-29T05:08:21.095583Z"
    }
   },
   "outputs": [
    {
     "data": {
      "text/plain": [
       "array([10.        , 10.26315789, 10.52631579, 10.78947368, 11.05263158,\n",
       "       11.31578947, 11.57894737, 11.84210526, 12.10526316, 12.36842105,\n",
       "       12.63157895, 12.89473684, 13.15789474, 13.42105263, 13.68421053,\n",
       "       13.94736842, 14.21052632, 14.47368421, 14.73684211, 15.        ])"
      ]
     },
     "execution_count": 19,
     "metadata": {},
     "output_type": "execute_result"
    }
   ],
   "source": [
    "d = np.linspace(10,15,20)\n",
    "d"
   ]
  },
  {
   "cell_type": "code",
   "execution_count": 20,
   "id": "a805f60a",
   "metadata": {
    "ExecuteTime": {
     "end_time": "2022-11-29T05:08:37.156165Z",
     "start_time": "2022-11-29T05:08:37.141418Z"
    }
   },
   "outputs": [
    {
     "data": {
      "text/plain": [
       "(array([10.        , 10.26315789, 10.52631579, 10.78947368, 11.05263158,\n",
       "        11.31578947, 11.57894737, 11.84210526, 12.10526316, 12.36842105,\n",
       "        12.63157895, 12.89473684, 13.15789474, 13.42105263, 13.68421053,\n",
       "        13.94736842, 14.21052632, 14.47368421, 14.73684211, 15.        ]),\n",
       " 0.2631578947368421)"
      ]
     },
     "execution_count": 20,
     "metadata": {},
     "output_type": "execute_result"
    }
   ],
   "source": [
    "# retstep = True:  To measure the how much space difference is there in linspace numbers\n",
    "\n",
    "d = np.linspace(10,15,20, retstep=True)\n",
    "d"
   ]
  },
  {
   "cell_type": "markdown",
   "id": "f59360ee",
   "metadata": {
    "ExecuteTime": {
     "end_time": "2022-11-29T05:08:39.897810Z",
     "start_time": "2022-11-29T05:08:39.880258Z"
    }
   },
   "source": [
    "**3. zeros**\n",
    "\n",
    "Return a new array of given shape and type, filled with zeros.\n",
    "\n",
    "**Syntax:** np.zeros(shape, dtype=float, order='C', *, like=None)"
   ]
  },
  {
   "cell_type": "code",
   "execution_count": 21,
   "id": "cc30dca0",
   "metadata": {
    "ExecuteTime": {
     "end_time": "2022-11-29T05:10:04.847142Z",
     "start_time": "2022-11-29T05:10:04.837605Z"
    }
   },
   "outputs": [
    {
     "data": {
      "text/plain": [
       "array([[0., 0., 0., 0., 0.],\n",
       "       [0., 0., 0., 0., 0.],\n",
       "       [0., 0., 0., 0., 0.]])"
      ]
     },
     "execution_count": 21,
     "metadata": {},
     "output_type": "execute_result"
    }
   ],
   "source": [
    "e = np. zeros([3,5])\n",
    "#      Shape: [-,-] = [rows, columns]\n",
    "e"
   ]
  },
  {
   "cell_type": "markdown",
   "id": "c8c6f0dc",
   "metadata": {
    "ExecuteTime": {
     "end_time": "2022-11-29T05:12:22.867598Z",
     "start_time": "2022-11-29T05:12:22.859082Z"
    }
   },
   "source": [
    "**4. ones**\n",
    "\n",
    "Return a new array of given shape and type, filled with ones.\n",
    "\n",
    "**Syntax:** np.ones(shape, dtype=None, order='C', *, like=None)"
   ]
  },
  {
   "cell_type": "code",
   "execution_count": 22,
   "id": "40188fb1",
   "metadata": {},
   "outputs": [
    {
     "data": {
      "text/plain": [
       "array([[1., 1., 1., 1., 1.],\n",
       "       [1., 1., 1., 1., 1.],\n",
       "       [1., 1., 1., 1., 1.],\n",
       "       [1., 1., 1., 1., 1.],\n",
       "       [1., 1., 1., 1., 1.]])"
      ]
     },
     "execution_count": 22,
     "metadata": {},
     "output_type": "execute_result"
    }
   ],
   "source": [
    "f = np.ones([5,5])\n",
    "#    Shape: [-,-] = [rows, columns]\n",
    "f"
   ]
  },
  {
   "cell_type": "markdown",
   "id": "20b69528",
   "metadata": {},
   "source": [
    "**5. random**\n",
    "\n",
    "**a) random.rand:**\n",
    "Random values in a given shape.\n",
    "**Syntax:** rand(d0, d1, ..., dn)\n",
    "\n",
    "**b) random.randint:**\n",
    "Return random integers from `low` (inclusive) to `high` (exclusive).\n",
    "**Syntax:** randint(low, high=None, size=None, dtype=int)\n",
    "\n",
    "**c) random.randn:**\n",
    "Return a sample (or samples) from the \"standard normal\" distribution.\n",
    "**Syntax:** randn(d0, d1, ..., dn)"
   ]
  },
  {
   "cell_type": "code",
   "execution_count": 23,
   "id": "3762fa60",
   "metadata": {},
   "outputs": [
    {
     "data": {
      "text/plain": [
       "array([[0.38079846, 0.12556806],\n",
       "       [0.58457361, 0.99527529]])"
      ]
     },
     "execution_count": 23,
     "metadata": {},
     "output_type": "execute_result"
    }
   ],
   "source": [
    "# a) random.rand:\n",
    "\n",
    "g = np.random.rand(2,2)\n",
    "g"
   ]
  },
  {
   "cell_type": "code",
   "execution_count": 24,
   "id": "9865a80c",
   "metadata": {},
   "outputs": [
    {
     "data": {
      "text/plain": [
       "array([1, 3, 2, 4, 2, 3, 3, 1, 4, 2])"
      ]
     },
     "execution_count": 24,
     "metadata": {},
     "output_type": "execute_result"
    }
   ],
   "source": [
    "# b) random.randint:\n",
    "\n",
    "h = np.random.randint(1,5,10)\n",
    "h"
   ]
  },
  {
   "cell_type": "code",
   "execution_count": 25,
   "id": "da7bff30",
   "metadata": {},
   "outputs": [
    {
     "data": {
      "text/plain": [
       "array([[-0.21073067, -0.20251317,  2.08839104,  0.67346845, -0.40649727,\n",
       "        -0.11586246],\n",
       "       [-1.82452285, -0.303617  , -1.01656049, -1.05157801, -2.16462306,\n",
       "         0.47269716],\n",
       "       [-1.2758518 , -0.30571794, -0.01661663,  0.47347985, -0.78197861,\n",
       "         1.70632551],\n",
       "       [ 1.01239957,  0.62072309, -1.50498057,  0.56258243,  1.49152525,\n",
       "         0.41387234],\n",
       "       [ 0.597619  ,  0.7447676 ,  1.21270265, -0.76060033, -0.42470843,\n",
       "        -0.4937675 ]])"
      ]
     },
     "execution_count": 25,
     "metadata": {},
     "output_type": "execute_result"
    }
   ],
   "source": [
    "# c) random.randn:\n",
    "\n",
    "i = np.random.randn(5,6)\n",
    "i"
   ]
  },
  {
   "cell_type": "markdown",
   "id": "fb232506",
   "metadata": {},
   "source": [
    "---\n",
    "# Slicing and Indexing of arrays"
   ]
  },
  {
   "cell_type": "code",
   "execution_count": 26,
   "id": "31ec533c",
   "metadata": {
    "ExecuteTime": {
     "end_time": "2022-11-29T05:13:19.095911Z",
     "start_time": "2022-11-29T05:13:19.086237Z"
    }
   },
   "outputs": [
    {
     "data": {
      "text/plain": [
       "array([1, 2, 3, 4, 5, 6, 7, 8, 9])"
      ]
     },
     "execution_count": 26,
     "metadata": {},
     "output_type": "execute_result"
    }
   ],
   "source": [
    "j = np.array([1,2,3,4,5,6,7,8,9])\n",
    "j"
   ]
  },
  {
   "cell_type": "code",
   "execution_count": 27,
   "id": "47fe8a48",
   "metadata": {
    "ExecuteTime": {
     "end_time": "2022-11-29T05:13:28.787604Z",
     "start_time": "2022-11-29T05:13:28.780591Z"
    }
   },
   "outputs": [
    {
     "data": {
      "text/plain": [
       "1"
      ]
     },
     "execution_count": 27,
     "metadata": {},
     "output_type": "execute_result"
    }
   ],
   "source": [
    "j.ndim"
   ]
  },
  {
   "cell_type": "code",
   "execution_count": 28,
   "id": "4fa2ded3",
   "metadata": {
    "ExecuteTime": {
     "end_time": "2022-11-29T05:16:45.616483Z",
     "start_time": "2022-11-29T05:16:45.602524Z"
    }
   },
   "outputs": [
    {
     "data": {
      "text/plain": [
       "5"
      ]
     },
     "execution_count": 28,
     "metadata": {},
     "output_type": "execute_result"
    }
   ],
   "source": [
    "# Extract 5 num\n",
    "\n",
    "j[4]"
   ]
  },
  {
   "cell_type": "code",
   "execution_count": 29,
   "id": "12788d97",
   "metadata": {
    "ExecuteTime": {
     "end_time": "2022-11-29T05:17:03.422151Z",
     "start_time": "2022-11-29T05:17:03.409141Z"
    }
   },
   "outputs": [
    {
     "data": {
      "text/plain": [
       "array([7, 8, 9])"
      ]
     },
     "execution_count": 29,
     "metadata": {},
     "output_type": "execute_result"
    }
   ],
   "source": [
    "# extract num 7 to 9\n",
    "\n",
    "j[6:9]"
   ]
  },
  {
   "cell_type": "code",
   "execution_count": 30,
   "id": "32842007",
   "metadata": {
    "ExecuteTime": {
     "end_time": "2022-11-29T05:26:16.854287Z",
     "start_time": "2022-11-29T05:26:16.843129Z"
    }
   },
   "outputs": [
    {
     "data": {
      "text/plain": [
       "array([[1, 2, 3],\n",
       "       [4, 5, 6]])"
      ]
     },
     "execution_count": 30,
     "metadata": {},
     "output_type": "execute_result"
    }
   ],
   "source": [
    "# Indexing with two dimensional array\n",
    "\n",
    "k = np.array([[1,2,3],[4,5,6]])\n",
    "k"
   ]
  },
  {
   "cell_type": "code",
   "execution_count": 31,
   "id": "eb907d3a",
   "metadata": {
    "ExecuteTime": {
     "end_time": "2022-11-29T05:17:37.376830Z",
     "start_time": "2022-11-29T05:17:37.368827Z"
    }
   },
   "outputs": [
    {
     "data": {
      "text/plain": [
       "'Index no.            0  1  2\\n                        |  |  |\\n        0--     array([[1, 2, 3],\\n        1--            [4, 5, 6]])'"
      ]
     },
     "execution_count": 31,
     "metadata": {},
     "output_type": "execute_result"
    }
   ],
   "source": [
    "'''Index no.            0  1  2\n",
    "                        |  |  |\n",
    "        0--     array([[1, 2, 3],\n",
    "        1--            [4, 5, 6]])'''"
   ]
  },
  {
   "cell_type": "code",
   "execution_count": 32,
   "id": "89729aad",
   "metadata": {
    "ExecuteTime": {
     "end_time": "2022-11-29T05:18:26.512850Z",
     "start_time": "2022-11-29T05:18:26.504182Z"
    }
   },
   "outputs": [
    {
     "data": {
      "text/plain": [
       "5"
      ]
     },
     "execution_count": 32,
     "metadata": {},
     "output_type": "execute_result"
    }
   ],
   "source": [
    "# Extract 5 num\n",
    "\n",
    "k[1,1]"
   ]
  },
  {
   "cell_type": "code",
   "execution_count": 33,
   "id": "f4332808",
   "metadata": {
    "ExecuteTime": {
     "end_time": "2022-11-29T05:18:43.292979Z",
     "start_time": "2022-11-29T05:18:43.272876Z"
    }
   },
   "outputs": [
    {
     "data": {
      "text/plain": [
       "array([2, 5])"
      ]
     },
     "execution_count": 33,
     "metadata": {},
     "output_type": "execute_result"
    }
   ],
   "source": [
    "# Extract num 2 & 5\n",
    "\n",
    "k[0:, 1]"
   ]
  },
  {
   "cell_type": "code",
   "execution_count": 34,
   "id": "d3cd476b",
   "metadata": {
    "ExecuteTime": {
     "end_time": "2022-11-29T05:20:02.672925Z",
     "start_time": "2022-11-29T05:20:02.659318Z"
    }
   },
   "outputs": [
    {
     "data": {
      "text/plain": [
       "array([[2, 3],\n",
       "       [5, 6]])"
      ]
     },
     "execution_count": 34,
     "metadata": {},
     "output_type": "execute_result"
    }
   ],
   "source": [
    "# Extract num 2,3 & 5,6\n",
    "\n",
    "k[0:3,1:3]"
   ]
  },
  {
   "cell_type": "code",
   "execution_count": 35,
   "id": "eb57de31",
   "metadata": {
    "ExecuteTime": {
     "end_time": "2022-11-29T05:20:55.128045Z",
     "start_time": "2022-11-29T05:20:55.121528Z"
    }
   },
   "outputs": [
    {
     "data": {
      "text/plain": [
       "array([1, 6])"
      ]
     },
     "execution_count": 35,
     "metadata": {},
     "output_type": "execute_result"
    }
   ],
   "source": [
    "# Extract num 1 & 6\n",
    "\n",
    "k[[0,1], [0,2]]"
   ]
  },
  {
   "cell_type": "markdown",
   "id": "57bb1165",
   "metadata": {},
   "source": [
    "---\n",
    "# Reshaping the arrays "
   ]
  },
  {
   "cell_type": "code",
   "execution_count": 36,
   "id": "2834e07a",
   "metadata": {
    "ExecuteTime": {
     "end_time": "2022-11-29T05:30:31.046694Z",
     "start_time": "2022-11-29T05:30:31.034598Z"
    }
   },
   "outputs": [
    {
     "data": {
      "text/plain": [
       "array([[0.33910841, 0.09393642, 0.78759086, 0.01950257, 0.72099745],\n",
       "       [0.87877631, 0.42512153, 0.41971349, 0.08224356, 0.17107548],\n",
       "       [0.72815847, 0.39789729, 0.42221106, 0.4583429 , 0.92057646],\n",
       "       [0.49252414, 0.4976895 , 0.63264508, 0.45535686, 0.98914392],\n",
       "       [0.00790143, 0.4794656 , 0.79378548, 0.51790568, 0.32152241]])"
      ]
     },
     "execution_count": 36,
     "metadata": {},
     "output_type": "execute_result"
    }
   ],
   "source": [
    "l = np.random.rand(5,5)\n",
    "l"
   ]
  },
  {
   "cell_type": "code",
   "execution_count": 37,
   "id": "9e1b54f2",
   "metadata": {
    "ExecuteTime": {
     "end_time": "2022-11-29T05:30:33.475772Z",
     "start_time": "2022-11-29T05:30:33.456623Z"
    }
   },
   "outputs": [
    {
     "data": {
      "text/plain": [
       "(5, 5)"
      ]
     },
     "execution_count": 37,
     "metadata": {},
     "output_type": "execute_result"
    }
   ],
   "source": [
    "l.shape"
   ]
  },
  {
   "cell_type": "code",
   "execution_count": 38,
   "id": "7d69fcc6",
   "metadata": {
    "ExecuteTime": {
     "end_time": "2022-11-29T05:31:52.889824Z",
     "start_time": "2022-11-29T05:31:52.870007Z"
    }
   },
   "outputs": [
    {
     "data": {
      "text/plain": [
       "array([[0.33910841, 0.09393642, 0.78759086, 0.01950257, 0.72099745,\n",
       "        0.87877631, 0.42512153, 0.41971349, 0.08224356, 0.17107548,\n",
       "        0.72815847, 0.39789729, 0.42221106, 0.4583429 , 0.92057646,\n",
       "        0.49252414, 0.4976895 , 0.63264508, 0.45535686, 0.98914392,\n",
       "        0.00790143, 0.4794656 , 0.79378548, 0.51790568, 0.32152241]])"
      ]
     },
     "execution_count": 38,
     "metadata": {},
     "output_type": "execute_result"
    }
   ],
   "source": [
    "# reshape\n",
    "\n",
    "l.reshape(1,25)"
   ]
  },
  {
   "cell_type": "code",
   "execution_count": 39,
   "id": "8234d794",
   "metadata": {
    "ExecuteTime": {
     "end_time": "2022-11-29T05:31:59.138023Z",
     "start_time": "2022-11-29T05:31:59.127494Z"
    }
   },
   "outputs": [
    {
     "data": {
      "text/plain": [
       "array([[0.33910841],\n",
       "       [0.09393642],\n",
       "       [0.78759086],\n",
       "       [0.01950257],\n",
       "       [0.72099745],\n",
       "       [0.87877631],\n",
       "       [0.42512153],\n",
       "       [0.41971349],\n",
       "       [0.08224356],\n",
       "       [0.17107548],\n",
       "       [0.72815847],\n",
       "       [0.39789729],\n",
       "       [0.42221106],\n",
       "       [0.4583429 ],\n",
       "       [0.92057646],\n",
       "       [0.49252414],\n",
       "       [0.4976895 ],\n",
       "       [0.63264508],\n",
       "       [0.45535686],\n",
       "       [0.98914392],\n",
       "       [0.00790143],\n",
       "       [0.4794656 ],\n",
       "       [0.79378548],\n",
       "       [0.51790568],\n",
       "       [0.32152241]])"
      ]
     },
     "execution_count": 39,
     "metadata": {},
     "output_type": "execute_result"
    }
   ],
   "source": [
    "l.reshape(25,1)"
   ]
  },
  {
   "cell_type": "code",
   "execution_count": 40,
   "id": "e1cc7e02",
   "metadata": {
    "ExecuteTime": {
     "end_time": "2022-11-29T05:32:20.778678Z",
     "start_time": "2022-11-29T05:32:20.764234Z"
    }
   },
   "outputs": [
    {
     "data": {
      "text/plain": [
       "array([[0.33910841, 0.09393642, 0.78759086, 0.01950257, 0.72099745],\n",
       "       [0.87877631, 0.42512153, 0.41971349, 0.08224356, 0.17107548],\n",
       "       [0.72815847, 0.39789729, 0.42221106, 0.4583429 , 0.92057646],\n",
       "       [0.49252414, 0.4976895 , 0.63264508, 0.45535686, 0.98914392],\n",
       "       [0.00790143, 0.4794656 , 0.79378548, 0.51790568, 0.32152241]])"
      ]
     },
     "execution_count": 40,
     "metadata": {},
     "output_type": "execute_result"
    }
   ],
   "source": [
    "# reshape the array automatically by writting -1 (use when u don't konw the possible combinations)\n",
    "# -1 is for unkonwn dimension\n",
    "\n",
    "l.reshape(5,-1)"
   ]
  },
  {
   "cell_type": "code",
   "execution_count": 41,
   "id": "5a89a577",
   "metadata": {
    "ExecuteTime": {
     "end_time": "2022-11-29T05:34:04.703740Z",
     "start_time": "2022-11-29T05:34:04.689128Z"
    }
   },
   "outputs": [
    {
     "data": {
      "text/plain": [
       "array([[0.33910841],\n",
       "       [0.09393642],\n",
       "       [0.78759086],\n",
       "       [0.01950257],\n",
       "       [0.72099745],\n",
       "       [0.87877631],\n",
       "       [0.42512153],\n",
       "       [0.41971349],\n",
       "       [0.08224356],\n",
       "       [0.17107548],\n",
       "       [0.72815847],\n",
       "       [0.39789729],\n",
       "       [0.42221106],\n",
       "       [0.4583429 ],\n",
       "       [0.92057646],\n",
       "       [0.49252414],\n",
       "       [0.4976895 ],\n",
       "       [0.63264508],\n",
       "       [0.45535686],\n",
       "       [0.98914392],\n",
       "       [0.00790143],\n",
       "       [0.4794656 ],\n",
       "       [0.79378548],\n",
       "       [0.51790568],\n",
       "       [0.32152241]])"
      ]
     },
     "execution_count": 41,
     "metadata": {},
     "output_type": "execute_result"
    }
   ],
   "source": [
    "l.reshape(-1,1)"
   ]
  },
  {
   "cell_type": "markdown",
   "id": "3bdf9c2b",
   "metadata": {},
   "source": [
    "---\n",
    "# Aggregate Functions\n",
    "\n",
    "- The Python numpy aggregate functions are sum, min, max, mean, average, product, median, standard deviation, variance,  percentile, and corrcoef."
   ]
  },
  {
   "cell_type": "code",
   "execution_count": 42,
   "id": "bbff223c",
   "metadata": {
    "ExecuteTime": {
     "end_time": "2022-11-29T05:36:29.698664Z",
     "start_time": "2022-11-29T05:36:29.684740Z"
    }
   },
   "outputs": [
    {
     "data": {
      "text/plain": [
       "array([[0.33910841, 0.09393642, 0.78759086, 0.01950257, 0.72099745],\n",
       "       [0.87877631, 0.42512153, 0.41971349, 0.08224356, 0.17107548],\n",
       "       [0.72815847, 0.39789729, 0.42221106, 0.4583429 , 0.92057646],\n",
       "       [0.49252414, 0.4976895 , 0.63264508, 0.45535686, 0.98914392],\n",
       "       [0.00790143, 0.4794656 , 0.79378548, 0.51790568, 0.32152241]])"
      ]
     },
     "execution_count": 42,
     "metadata": {},
     "output_type": "execute_result"
    }
   ],
   "source": [
    "l"
   ]
  },
  {
   "cell_type": "code",
   "execution_count": 43,
   "id": "eb439987",
   "metadata": {},
   "outputs": [
    {
     "data": {
      "text/plain": [
       "0.007901426875032258"
      ]
     },
     "execution_count": 43,
     "metadata": {},
     "output_type": "execute_result"
    }
   ],
   "source": [
    "# Min functon:\n",
    "\n",
    "l.min()"
   ]
  },
  {
   "cell_type": "code",
   "execution_count": 44,
   "id": "901a98ac",
   "metadata": {
    "ExecuteTime": {
     "end_time": "2022-11-29T05:36:40.350951Z",
     "start_time": "2022-11-29T05:36:40.339356Z"
    }
   },
   "outputs": [
    {
     "data": {
      "text/plain": [
       "0.9891439172769714"
      ]
     },
     "execution_count": 44,
     "metadata": {},
     "output_type": "execute_result"
    }
   ],
   "source": [
    "# Max functon:\n",
    "\n",
    "l.max()"
   ]
  },
  {
   "cell_type": "code",
   "execution_count": 45,
   "id": "1a74f686",
   "metadata": {
    "ExecuteTime": {
     "end_time": "2022-11-29T05:36:45.475682Z",
     "start_time": "2022-11-29T05:36:45.467156Z"
    }
   },
   "outputs": [
    {
     "data": {
      "text/plain": [
       "0.4821276942047011"
      ]
     },
     "execution_count": 45,
     "metadata": {},
     "output_type": "execute_result"
    }
   ],
   "source": [
    "# Mean(average) functon:\n",
    "\n",
    "l.mean()"
   ]
  },
  {
   "cell_type": "code",
   "execution_count": 46,
   "id": "d2a2c5d9",
   "metadata": {
    "ExecuteTime": {
     "end_time": "2022-11-29T05:36:54.323191Z",
     "start_time": "2022-11-29T05:36:54.304872Z"
    }
   },
   "outputs": [
    {
     "data": {
      "text/plain": [
       "0.27207210772839446"
      ]
     },
     "execution_count": 46,
     "metadata": {},
     "output_type": "execute_result"
    }
   ],
   "source": [
    "# Standard deviation functon:\n",
    "\n",
    "l.std()"
   ]
  },
  {
   "cell_type": "markdown",
   "id": "f5a64e45",
   "metadata": {},
   "source": [
    "---\n",
    "# Stacking \n",
    "\n",
    "**- Stacking is used to join 2 different arrays.**\n",
    "\n",
    "Two types of method:\n",
    "- Vertical stacking\n",
    "- Horizontal stacking"
   ]
  },
  {
   "cell_type": "code",
   "execution_count": 47,
   "id": "2cc2ea35",
   "metadata": {
    "ExecuteTime": {
     "end_time": "2022-11-29T05:39:50.978674Z",
     "start_time": "2022-11-29T05:39:50.969550Z"
    }
   },
   "outputs": [
    {
     "name": "stdout",
     "output_type": "stream",
     "text": [
      "[5 6 7 8 9]\n",
      "[10 20 30 40 50]\n"
     ]
    }
   ],
   "source": [
    "m = np.array([5,6,7,8,9])\n",
    "n = np.array([10,20,30,40,50])\n",
    "\n",
    "print(m)\n",
    "print(n)"
   ]
  },
  {
   "cell_type": "code",
   "execution_count": 48,
   "id": "7af3fa15",
   "metadata": {
    "ExecuteTime": {
     "end_time": "2022-11-29T05:40:05.947809Z",
     "start_time": "2022-11-29T05:40:05.938976Z"
    }
   },
   "outputs": [
    {
     "data": {
      "text/plain": [
       "array([[ 5,  6,  7,  8,  9],\n",
       "       [10, 20, 30, 40, 50]])"
      ]
     },
     "execution_count": 48,
     "metadata": {},
     "output_type": "execute_result"
    }
   ],
   "source": [
    "# Vertical stacking\n",
    "\n",
    "o = np.vstack([m,n])\n",
    "o"
   ]
  },
  {
   "cell_type": "code",
   "execution_count": 49,
   "id": "fda110d8",
   "metadata": {
    "ExecuteTime": {
     "end_time": "2022-11-29T05:40:40.279680Z",
     "start_time": "2022-11-29T05:40:40.259612Z"
    }
   },
   "outputs": [
    {
     "data": {
      "text/plain": [
       "array([ 5,  6,  7,  8,  9, 10, 20, 30, 40, 50])"
      ]
     },
     "execution_count": 49,
     "metadata": {},
     "output_type": "execute_result"
    }
   ],
   "source": [
    "# Horizontal stacking\n",
    "\n",
    "p = np.hstack([m,n])\n",
    "p"
   ]
  },
  {
   "cell_type": "code",
   "execution_count": null,
   "id": "f04c6183",
   "metadata": {},
   "outputs": [],
   "source": []
  }
 ],
 "metadata": {
  "_draft": {
   "nbviewer_url": "https://gist.github.com/21c911ff193396ba12c34a5385ab8119"
  },
  "gist": {
   "data": {
    "description": "ExcelR/Numpy.ipynb",
    "public": true
   },
   "id": "21c911ff193396ba12c34a5385ab8119"
  },
  "kernelspec": {
   "display_name": "Python 3 (ipykernel)",
   "language": "python",
   "name": "python3"
  },
  "language_info": {
   "codemirror_mode": {
    "name": "ipython",
    "version": 3
   },
   "file_extension": ".py",
   "mimetype": "text/x-python",
   "name": "python",
   "nbconvert_exporter": "python",
   "pygments_lexer": "ipython3",
   "version": "3.11.3"
  }
 },
 "nbformat": 4,
 "nbformat_minor": 5
}
