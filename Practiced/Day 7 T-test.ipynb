{
 "cells": [
  {
   "cell_type": "markdown",
   "id": "936b4102",
   "metadata": {},
   "source": [
    "# T-test"
   ]
  },
  {
   "cell_type": "code",
   "execution_count": 2,
   "id": "21f4baf1",
   "metadata": {},
   "outputs": [],
   "source": [
    "# Import scipy library\n",
    "\n",
    "from scipy import stats "
   ]
  },
  {
   "cell_type": "code",
   "execution_count": 3,
   "id": "769e747b",
   "metadata": {},
   "outputs": [
    {
     "data": {
      "text/plain": [
       "1.977177724476122"
      ]
     },
     "execution_count": 3,
     "metadata": {},
     "output_type": "execute_result"
    }
   ],
   "source": [
    "# calcute t-test for \n",
    "# sample size= 140 (DOF= n-1= 140-1= 139),\n",
    "# confidence level is 0.95=95%,\n",
    "# for entire left hand side probability = 0.95+0.025= 0.975\n",
    "\n",
    "stats.t.ppf(0.975, df=139)\n",
    "# stats.t.ppf(lHS probability confidence level for 95%, degrees of freedom)"
   ]
  }
 ],
 "metadata": {
  "kernelspec": {
   "display_name": "Python 3 (ipykernel)",
   "language": "python",
   "name": "python3"
  },
  "language_info": {
   "codemirror_mode": {
    "name": "ipython",
    "version": 3
   },
   "file_extension": ".py",
   "mimetype": "text/x-python",
   "name": "python",
   "nbconvert_exporter": "python",
   "pygments_lexer": "ipython3",
   "version": "3.11.3"
  }
 },
 "nbformat": 4,
 "nbformat_minor": 5
}
