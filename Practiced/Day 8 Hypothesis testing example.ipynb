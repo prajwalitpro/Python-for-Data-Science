{
 "cells": [
  {
   "cell_type": "markdown",
   "id": "ff4f2ee2",
   "metadata": {},
   "source": [
    "# Hypothesis Testing Examples"
   ]
  },
  {
   "cell_type": "markdown",
   "id": "9c678c4a",
   "metadata": {},
   "source": [
    "# Steps for performing Hypothesis testing → \n",
    "\n",
    "\n",
    "**1. Define Hypothesis:**\n",
    "\n",
    "    ⅰ) Null hypothesis (Ho) or \n",
    " \n",
    "    ii) Alternate hypothesis (HA)\n",
    "\n",
    "**2. Decide which test to perform (Z-test / T-test).**\n",
    "\n",
    "**3. Identify whether the test is One Tail / Two Tail.**\n",
    "\n",
    "**4. Compute P-value (ie. Probability value) ---(always range within O to 1).**\n",
    "\n",
    "**5. Compare P-value & 𝛼-value.**\n",
    "\n",
    "**6. Step 6**\n",
    "\n",
    "    i) If P-value is less than 𝛼-value then Reject Null Hypothesis (Ho).\n",
    "    (P < 𝛼 --> Reject Ho)\n",
    "\n",
    "    ii) If P-value is greater than 𝛼-value then Fail to Reject Null Hypothesis (HA).\n",
    "    (P > 𝛼  --> Fail to reject Ho)."
   ]
  },
  {
   "cell_type": "code",
   "execution_count": 1,
   "id": "6d883c94",
   "metadata": {},
   "outputs": [],
   "source": [
    "# Import Libraries\n",
    "\n",
    "from scipy import stats\n",
    "import numpy as np"
   ]
  },
  {
   "cell_type": "markdown",
   "id": "d222831f",
   "metadata": {},
   "source": [
    "# Que.\n",
    "**The average weight of people in A is 72kg with sd (standard deviation) 4kg.\n",
    "• TO  test this claim randomly we select 36 people from this city and there average weight came out to be 74kg.**\n",
    "\n",
    "Ans:"
   ]
  },
  {
   "cell_type": "markdown",
   "id": "aa116469",
   "metadata": {},
   "source": [
    "Given,\n",
    "- μ (Population Mean) = 72\n",
    "- X̄ (Sample Mean) = 74\n",
    "- σ (Population Standard Deviation) = 4\n",
    "- n (Sample Size) = 36\n",
    "- 𝛼 (For 95% Confidence level) = 0.05\n"
   ]
  },
  {
   "cell_type": "markdown",
   "id": "6bdd95ae",
   "metadata": {},
   "source": [
    "**Formula for Z-test**\n",
    "\n",
    "Z-test = (X̄ - μ)/(σ/√n)"
   ]
  },
  {
   "cell_type": "code",
   "execution_count": 2,
   "id": "af498bad",
   "metadata": {},
   "outputs": [],
   "source": [
    "mu = 72\n",
    "x = 74\n",
    "p_sd = 4\n",
    "n = 36\n",
    "alfa = 0.05"
   ]
  },
  {
   "cell_type": "markdown",
   "id": "69233653",
   "metadata": {},
   "source": [
    "**1. Define Hypothesis:**\n",
    "\n",
    "ⅰ) Null hypothesis (Ho) or \n",
    "\n",
    "ii) Alternate hypothesis (HA)"
   ]
  },
  {
   "cell_type": "code",
   "execution_count": 3,
   "id": "3bd32f9d",
   "metadata": {},
   "outputs": [
    {
     "data": {
      "text/plain": [
       "'1) Null hypothesis (Ho)      --> μ = 72,\\n   2) Alternate hypothesis (HA) --> μ ≠ 72'"
      ]
     },
     "execution_count": 3,
     "metadata": {},
     "output_type": "execute_result"
    }
   ],
   "source": [
    "'''1) Null hypothesis (Ho)      --> μ = 72,\n",
    "   2) Alternate hypothesis (HA) --> μ ≠ 72'''"
   ]
  },
  {
   "cell_type": "markdown",
   "id": "62eb4786",
   "metadata": {},
   "source": [
    "**2. Decide which test to perform (Z-test / T-test)**"
   ]
  },
  {
   "cell_type": "code",
   "execution_count": 4,
   "id": "4308bc76",
   "metadata": {},
   "outputs": [
    {
     "data": {
      "text/plain": [
       "3.0"
      ]
     },
     "execution_count": 4,
     "metadata": {},
     "output_type": "execute_result"
    }
   ],
   "source": [
    "# Lets compute the Z-score\n",
    "\n",
    "z_test = (x-mu)/(p_sd/np.sqrt(n))\n",
    "z_test"
   ]
  },
  {
   "cell_type": "code",
   "execution_count": 5,
   "id": "e50736c2",
   "metadata": {},
   "outputs": [
    {
     "data": {
      "text/plain": [
       "0.9986501019683699"
      ]
     },
     "execution_count": 5,
     "metadata": {},
     "output_type": "execute_result"
    }
   ],
   "source": [
    "# Lets compute the Z-value for z-score=3 in the z-table\n",
    "\n",
    "stats.norm.cdf(3)"
   ]
  },
  {
   "cell_type": "markdown",
   "id": "370454cd",
   "metadata": {},
   "source": [
    "**3. Identify whether the test is One Tail / Two Tail**"
   ]
  },
  {
   "cell_type": "code",
   "execution_count": 6,
   "id": "9a108652",
   "metadata": {},
   "outputs": [
    {
     "data": {
      "text/plain": [
       "'It is Two Tail test: Because, We are calculating for the both sides'"
      ]
     },
     "execution_count": 6,
     "metadata": {},
     "output_type": "execute_result"
    }
   ],
   "source": [
    "'''It is Two Tail test: Because, We are calculating for the both sides'''"
   ]
  },
  {
   "cell_type": "markdown",
   "id": "c18a1a54",
   "metadata": {},
   "source": [
    "**4. Compute P-value (ie. Probability value) ---(always range within O to 1)**"
   ]
  },
  {
   "cell_type": "code",
   "execution_count": 7,
   "id": "dde00950",
   "metadata": {},
   "outputs": [
    {
     "data": {
      "text/plain": [
       "0.0013498980316301035"
      ]
     },
     "execution_count": 7,
     "metadata": {},
     "output_type": "execute_result"
    }
   ],
   "source": [
    "# To compute RHS Probability\n",
    "\n",
    "RHS = 1 - stats.norm.cdf(3)\n",
    "RHS"
   ]
  },
  {
   "cell_type": "code",
   "execution_count": 8,
   "id": "e9cb5173",
   "metadata": {},
   "outputs": [
    {
     "data": {
      "text/plain": [
       "0.002699796063260207"
      ]
     },
     "execution_count": 8,
     "metadata": {},
     "output_type": "execute_result"
    }
   ],
   "source": [
    "# Error of both side\n",
    "p_val = RHS+RHS  # (2 times because It's two tail test & we calculating for both sides)\n",
    "p_val"
   ]
  },
  {
   "cell_type": "markdown",
   "id": "b242dea6",
   "metadata": {},
   "source": [
    "**5. Compare P-value & 𝛼-value**\n",
    "\n",
    "**6. If**\n",
    "\n",
    "**i) (P < 𝛼 --> Reject Ho)**\n",
    "\n",
    "**ii) (P > 𝛼  --> Fail to reject Ho)**"
   ]
  },
  {
   "cell_type": "markdown",
   "id": "58213416",
   "metadata": {},
   "source": [
    "**Note: If P-value is less than  𝛼-value then reject null hypothesis**"
   ]
  },
  {
   "cell_type": "code",
   "execution_count": 9,
   "id": "28f3338d",
   "metadata": {},
   "outputs": [
    {
     "name": "stdout",
     "output_type": "stream",
     "text": [
      "Reject Null Hypothesis\n"
     ]
    }
   ],
   "source": [
    "# Compare P-value & 𝛼-value\n",
    "\n",
    "if p_val < alfa:\n",
    "    print('Reject Null Hypothesis')\n",
    "else:\n",
    "    print('Fail to Reject Null Hypothesis')"
   ]
  },
  {
   "cell_type": "markdown",
   "id": "979ce35e",
   "metadata": {},
   "source": [
    "----"
   ]
  },
  {
   "cell_type": "markdown",
   "id": "7126bc2a",
   "metadata": {},
   "source": [
    "# Que.\n",
    "**Resting heart rate is known to be 71 beats per minute with on average and with a standard deviation of 4 beats per minute. A set of researchers belive that heart rate will increase in men when they are waiting to go into a job interview.\n",
    "To test this hypothesis, a group of 9 men attending job interviews are fitted with a wireless heart rate monitor to wear on their chest in the hour preceding their interviews. Their average heart rates over this hour are shown in the table below.**\n",
    "\n",
    "\n",
    "- Participant  |  Heart Rate(bmp)\n",
    "- 1            |  80\n",
    "- 2            |  74\n",
    "- 3            |  73\n",
    "- 4            |  72\n",
    "- 5            |  78\n",
    "- 6            |  75\n",
    "- 7            |  70\n",
    "- 8            |  74\n",
    "- 9            |  69\n",
    "\n",
    "Ans:"
   ]
  },
  {
   "cell_type": "markdown",
   "id": "d24de4db",
   "metadata": {},
   "source": [
    "Given,\n",
    "- μ (Population Mean) = 71\n",
    "- X̄ (Sample Mean) = 73.8888889\n",
    "- σ (Population Standard Deviation) = 4\n",
    "- n (Sample Size) = 9\n",
    "- 𝛼 (For 95% Confidence level) = 0.05\n"
   ]
  },
  {
   "cell_type": "markdown",
   "id": "d29302ad",
   "metadata": {},
   "source": [
    "**Formula for Z-test**\n",
    "\n",
    "Z-test = (X̄ - μ)/(σ/√n)"
   ]
  },
  {
   "cell_type": "code",
   "execution_count": 10,
   "id": "fd57c499",
   "metadata": {},
   "outputs": [],
   "source": [
    "x1 =(80,74,73,72,78,75,70,74,69)"
   ]
  },
  {
   "cell_type": "code",
   "execution_count": 11,
   "id": "a42a1c58",
   "metadata": {},
   "outputs": [],
   "source": [
    "pop_mu = 71\n",
    "sam_x = np.average(x1)\n",
    "pop_sd = 4\n",
    "n1 = 9\n",
    "al = 0.05"
   ]
  },
  {
   "cell_type": "markdown",
   "id": "d5eae393",
   "metadata": {},
   "source": [
    "**1. Define Hypothesis:**\n",
    "\n",
    "ⅰ) Null hypothesis (Ho) or\n",
    "\n",
    "ii) Alternate hypothesis (HA)"
   ]
  },
  {
   "cell_type": "code",
   "execution_count": 12,
   "id": "3565a8f0",
   "metadata": {},
   "outputs": [
    {
     "data": {
      "text/plain": [
       "'1) Alternate hypothesis (HA) --> μ > 71,\\n   2) Null hypothesis (Ho)      --> μ ≤ 71'"
      ]
     },
     "execution_count": 12,
     "metadata": {},
     "output_type": "execute_result"
    }
   ],
   "source": [
    "'''1) Alternate hypothesis (HA) --> μ > 71,\n",
    "   2) Null hypothesis (Ho)      --> μ ≤ 71'''"
   ]
  },
  {
   "cell_type": "markdown",
   "id": "f5eb4338",
   "metadata": {},
   "source": [
    "**2. Decide which test to perform (Z-test / T-test)**"
   ]
  },
  {
   "cell_type": "code",
   "execution_count": 13,
   "id": "c0b3d532",
   "metadata": {},
   "outputs": [
    {
     "data": {
      "text/plain": [
       "2.1666666666666643"
      ]
     },
     "execution_count": 13,
     "metadata": {},
     "output_type": "execute_result"
    }
   ],
   "source": [
    "# Lets compute the Z-score\n",
    "\n",
    "z_test1 = (sam_x - pop_mu) / (pop_sd / np.sqrt(n1))\n",
    "z_test1"
   ]
  },
  {
   "cell_type": "code",
   "execution_count": 14,
   "id": "576b4fea",
   "metadata": {},
   "outputs": [
    {
     "data": {
      "text/plain": [
       "0.9848698599897641"
      ]
     },
     "execution_count": 14,
     "metadata": {},
     "output_type": "execute_result"
    }
   ],
   "source": [
    "# Lets compute the Z- value for the z-score=2.1666666666666643 in the z-table.\n",
    "\n",
    "z = stats.norm.cdf(z_test1)\n",
    "z"
   ]
  },
  {
   "cell_type": "markdown",
   "id": "cca9420d",
   "metadata": {},
   "source": [
    "**3. Identify whether the test is One Tail / Two Tail**"
   ]
  },
  {
   "cell_type": "code",
   "execution_count": 15,
   "id": "c6d6334a",
   "metadata": {},
   "outputs": [
    {
     "data": {
      "text/plain": [
       "'It is One Tail test: Because, We are calculating for the one side only'"
      ]
     },
     "execution_count": 15,
     "metadata": {},
     "output_type": "execute_result"
    }
   ],
   "source": [
    "'''It is One Tail test: Because, We are calculating for the one side only'''"
   ]
  },
  {
   "cell_type": "markdown",
   "id": "5817119c",
   "metadata": {},
   "source": [
    "**4. Compute P-value (ie. Probability value) ---(always range within O to 1)**"
   ]
  },
  {
   "cell_type": "code",
   "execution_count": 16,
   "id": "b262ce5c",
   "metadata": {},
   "outputs": [
    {
     "data": {
      "text/plain": [
       "0.0013498980316301035"
      ]
     },
     "execution_count": 16,
     "metadata": {},
     "output_type": "execute_result"
    }
   ],
   "source": [
    "# To compute RHS Probability\n",
    "\n",
    "RHS1 = 1 - stats.norm.cdf(z_test1)\n",
    "RHS"
   ]
  },
  {
   "cell_type": "markdown",
   "id": "b3c24904",
   "metadata": {},
   "source": [
    "**5. Compare P-value & 𝛼-value**\n",
    "\n",
    "**6. If**\n",
    "\n",
    "**i) (P < 𝛼 --> Reject Ho)**\n",
    "\n",
    "**ii) (P > 𝛼  --> Fail to reject Ho)**"
   ]
  },
  {
   "cell_type": "code",
   "execution_count": 17,
   "id": "06c0c366",
   "metadata": {},
   "outputs": [
    {
     "name": "stdout",
     "output_type": "stream",
     "text": [
      "Reject Null Hypothesis\n"
     ]
    }
   ],
   "source": [
    "# Compare P-value & 𝛼-value\n",
    "\n",
    "if RHS1 < 0.05:\n",
    "    print('Reject Null Hypothesis')\n",
    "else:\n",
    "    print('Fail to Reject Null Hypothesis')"
   ]
  },
  {
   "cell_type": "markdown",
   "id": "77555c02",
   "metadata": {},
   "source": [
    "---"
   ]
  },
  {
   "cell_type": "markdown",
   "id": "3a88b453",
   "metadata": {},
   "source": [
    "# Que.\n",
    "**- A supermarket plans to launch a loyalty program if it results in an average spending per shopper of more than 120 dollars per week**\n",
    "\n",
    "**- A random sample of 80 shoppers enrolled in the pilot program spent an average of 130 dollars in a week with a standard deviation of 40 dollars**\n",
    "\n",
    "**- Should the loyalty program be launched?**\n",
    "\n",
    "Ans:"
   ]
  },
  {
   "cell_type": "markdown",
   "id": "c8bb1d67",
   "metadata": {},
   "source": [
    "Given,\n",
    "- μ (Population Mean) = 120\n",
    "- X̄ (Sample Mean) = 130\n",
    "- σ (Population Standard Deviation) = Unknown.\n",
    "- s (Sample Standard Deviation) = 40\n",
    "- n (Sample Size) = 80\n",
    "- 𝛼 (For 95% Confidence level) = 0.05"
   ]
  },
  {
   "cell_type": "markdown",
   "id": "9c850555",
   "metadata": {},
   "source": [
    "**Formula for T-test**\n",
    "\n",
    "T-test = (X̄ - μ)/(s/√n)"
   ]
  },
  {
   "cell_type": "code",
   "execution_count": 18,
   "id": "3ba34d40",
   "metadata": {},
   "outputs": [],
   "source": [
    "mu2 = 120\n",
    "x2 = 130\n",
    "n2 = 80\n",
    "s = 40\n",
    "alfa2 = 0.05"
   ]
  },
  {
   "cell_type": "markdown",
   "id": "32262918",
   "metadata": {},
   "source": [
    "**1. Define Hypothesis:**\n",
    "\n",
    "ⅰ) Null hypothesis (Ho) or\n",
    "\n",
    "ii) Alternate hypothesis (HA)"
   ]
  },
  {
   "cell_type": "code",
   "execution_count": 19,
   "id": "9576f6ec",
   "metadata": {},
   "outputs": [
    {
     "data": {
      "text/plain": [
       "\"1) Null hypothesis (Ho)      --> μ ≤ 120 :- Don't Launch Product,\\n   2) Alternate hypothesis (HA) --> μ > 120 :- Launch Product\""
      ]
     },
     "execution_count": 19,
     "metadata": {},
     "output_type": "execute_result"
    }
   ],
   "source": [
    "'''1) Null hypothesis (Ho)      --> μ ≤ 120 :- Don't Launch Product,\n",
    "   2) Alternate hypothesis (HA) --> μ > 120 :- Launch Product'''"
   ]
  },
  {
   "cell_type": "markdown",
   "id": "9bf37f16",
   "metadata": {},
   "source": [
    "**2. Decide which test to perform (Z-test / T-test)**"
   ]
  },
  {
   "cell_type": "code",
   "execution_count": 20,
   "id": "fdc58e8e",
   "metadata": {},
   "outputs": [
    {
     "data": {
      "text/plain": [
       "2.23606797749979"
      ]
     },
     "execution_count": 20,
     "metadata": {},
     "output_type": "execute_result"
    }
   ],
   "source": [
    "# Population parameter i.e. population standard deviation is unknown\n",
    "# So Lets perform T-test\n",
    "\n",
    "T_test = (x2 - mu2) / (s/np.sqrt(n2))\n",
    "T_test"
   ]
  },
  {
   "cell_type": "code",
   "execution_count": 21,
   "id": "6f073908",
   "metadata": {},
   "outputs": [
    {
     "data": {
      "text/plain": [
       "0.9859156837229892"
      ]
     },
     "execution_count": 21,
     "metadata": {},
     "output_type": "execute_result"
    }
   ],
   "source": [
    "# Lets compute the T-value for the t-score=2.23606797749979 in the t-table.\n",
    "\n",
    "t = stats.t.cdf(T_test,79)\n",
    "t"
   ]
  },
  {
   "cell_type": "markdown",
   "id": "b0d8147c",
   "metadata": {},
   "source": [
    "**3. Identify whether the test is One Tail / Two Tail**"
   ]
  },
  {
   "cell_type": "code",
   "execution_count": 22,
   "id": "545cc8fe",
   "metadata": {},
   "outputs": [
    {
     "data": {
      "text/plain": [
       "'It is One Tail test: Because, We are calculating for the one side only'"
      ]
     },
     "execution_count": 22,
     "metadata": {},
     "output_type": "execute_result"
    }
   ],
   "source": [
    "'''It is One Tail test: Because, We are calculating for the one side only'''"
   ]
  },
  {
   "cell_type": "markdown",
   "id": "47cc2903",
   "metadata": {},
   "source": [
    "**4. Compute P-value (ie. Probability value) ---(always range within O to 1)**"
   ]
  },
  {
   "cell_type": "code",
   "execution_count": 23,
   "id": "72ae7128",
   "metadata": {},
   "outputs": [
    {
     "data": {
      "text/plain": [
       "0.014084316277010789"
      ]
     },
     "execution_count": 23,
     "metadata": {},
     "output_type": "execute_result"
    }
   ],
   "source": [
    "# To compute RHS Probability\n",
    "\n",
    "RHS2 = 1 - t\n",
    "RHS2"
   ]
  },
  {
   "cell_type": "markdown",
   "id": "abfb633d",
   "metadata": {},
   "source": [
    "**5. Compare P-value & 𝛼-value**\n",
    "\n",
    "**6. If**\n",
    "\n",
    "**i) (P < 𝛼 --> Reject Ho)**\n",
    "\n",
    "**ii) (P > 𝛼  --> Fail to reject Ho)**"
   ]
  },
  {
   "cell_type": "code",
   "execution_count": 24,
   "id": "c88f656f",
   "metadata": {},
   "outputs": [
    {
     "name": "stdout",
     "output_type": "stream",
     "text": [
      "Reject Null Hypothesis\n"
     ]
    }
   ],
   "source": [
    "if RHS2 <= 0.05:\n",
    "    print(\"Reject Null Hypothesis\")\n",
    "else:\n",
    "    print('Fail to Reject Null Hypothesis')"
   ]
  },
  {
   "cell_type": "markdown",
   "id": "71c7fefa",
   "metadata": {},
   "source": [
    "---"
   ]
  },
  {
   "cell_type": "markdown",
   "id": "08b4a502",
   "metadata": {},
   "source": [
    "# Que.\n",
    "**- Performance of a call center is monitored by the average call duration.**\n",
    "\n",
    "**- Data from 18 months shows that on the days when the process runs normally μ = 4 min, σ = 3 min.**\n",
    "\n",
    "**- Cannot monitor each and every call due to limited resources; so randomly sample 50 calls per day.**\n",
    "\n",
    "Ans:"
   ]
  },
  {
   "cell_type": "markdown",
   "id": "32be9a46",
   "metadata": {},
   "source": [
    "Given,\n",
    "- μ (Population Mean) = 4\n",
    "- X̄ (Sample Mean) = 4.5\n",
    "- σ (Population Standard Deviation) = Unkonwn.\n",
    "- s (Sample Standard Deviation) = 3\n",
    "- n (Sample Size) = 50\n",
    "- 𝛼 (For 95% Confidence level) = 0.05"
   ]
  },
  {
   "cell_type": "markdown",
   "id": "7f590569",
   "metadata": {},
   "source": [
    "**Formula for T-test**\n",
    "\n",
    "T-test = (X̄ - μ)/(s/√n)"
   ]
  },
  {
   "cell_type": "code",
   "execution_count": 25,
   "id": "c0beee6f",
   "metadata": {},
   "outputs": [],
   "source": [
    "mu3 = 4\n",
    "x3 = 4.5\n",
    "s3 = 3\n",
    "n3 = 50\n",
    "alfa3 = 0.05"
   ]
  },
  {
   "cell_type": "markdown",
   "id": "ac8f9aa4",
   "metadata": {},
   "source": [
    "**1. Define Hypothesis:**\n",
    "\n",
    "ⅰ) Null hypothesis (Ho) or\n",
    "\n",
    "ii) Alternate hypothesis (HA)"
   ]
  },
  {
   "cell_type": "code",
   "execution_count": 26,
   "id": "c5c0e878",
   "metadata": {},
   "outputs": [
    {
     "data": {
      "text/plain": [
       "'1) Null hypothesis (Ho)      --> μ = 4,\\n   2) Alternate hypothesis (HA) --> μ ≠ 4'"
      ]
     },
     "execution_count": 26,
     "metadata": {},
     "output_type": "execute_result"
    }
   ],
   "source": [
    "'''1) Null hypothesis (Ho)      --> μ = 4,\n",
    "   2) Alternate hypothesis (HA) --> μ ≠ 4'''"
   ]
  },
  {
   "cell_type": "markdown",
   "id": "33ed54d3",
   "metadata": {},
   "source": [
    "**2. Decide which test to perform (Z-test / T-test)**"
   ]
  },
  {
   "cell_type": "code",
   "execution_count": 27,
   "id": "0fb53ea3",
   "metadata": {},
   "outputs": [
    {
     "data": {
      "text/plain": [
       "1.1785113019775793"
      ]
     },
     "execution_count": 27,
     "metadata": {},
     "output_type": "execute_result"
    }
   ],
   "source": [
    "# Population parameter i.e. population standard deviation is unknown\n",
    "# So Lets perform T-test\n",
    "\n",
    "T_test3 = (x3 - mu3) / (s3/np.sqrt(n3))\n",
    "T_test3"
   ]
  },
  {
   "cell_type": "code",
   "execution_count": 28,
   "id": "1ad1559c",
   "metadata": {},
   "outputs": [
    {
     "data": {
      "text/plain": [
       "0.877857834232742"
      ]
     },
     "execution_count": 28,
     "metadata": {},
     "output_type": "execute_result"
    }
   ],
   "source": [
    "# Lets compute the T-value for the t-score=1.1785113019775793 in the t-table.\n",
    "\n",
    "t3 = stats.t.cdf(T_test3,49)\n",
    "t3"
   ]
  },
  {
   "cell_type": "markdown",
   "id": "5144e9ec",
   "metadata": {},
   "source": [
    "**3. Identify whether the test is One Tail / Two Tail**"
   ]
  },
  {
   "cell_type": "code",
   "execution_count": 29,
   "id": "dd0865c2",
   "metadata": {},
   "outputs": [
    {
     "data": {
      "text/plain": [
       "'It is Two Tail test: Because, We are calculating for the both sides'"
      ]
     },
     "execution_count": 29,
     "metadata": {},
     "output_type": "execute_result"
    }
   ],
   "source": [
    "'''It is Two Tail test: Because, We are calculating for the both sides'''"
   ]
  },
  {
   "cell_type": "markdown",
   "id": "552c70d5",
   "metadata": {},
   "source": [
    "**4. Compute P-value (ie. Probability value) ---(always range within O to 1)**"
   ]
  },
  {
   "cell_type": "code",
   "execution_count": 30,
   "id": "ddabecfe",
   "metadata": {},
   "outputs": [
    {
     "data": {
      "text/plain": [
       "0.122142165767258"
      ]
     },
     "execution_count": 30,
     "metadata": {},
     "output_type": "execute_result"
    }
   ],
   "source": [
    "# To compute RHS Probability\n",
    "\n",
    "RHS3 = 1 - t3\n",
    "RHS3"
   ]
  },
  {
   "cell_type": "code",
   "execution_count": 31,
   "id": "8241a121",
   "metadata": {},
   "outputs": [
    {
     "data": {
      "text/plain": [
       "0.244284331534516"
      ]
     },
     "execution_count": 31,
     "metadata": {},
     "output_type": "execute_result"
    }
   ],
   "source": [
    "# Error of both side\n",
    "p_val3 = RHS3+RHS3  # (2 times because It's two tail test & we calculating for both sides)\n",
    "p_val3"
   ]
  },
  {
   "cell_type": "markdown",
   "id": "7a75dc2d",
   "metadata": {},
   "source": [
    "**5. Compare P-value & 𝛼-value**\n",
    "\n",
    "**6. If**\n",
    "\n",
    "**i) (P < 𝛼 --> Reject Ho)**\n",
    "\n",
    "**ii) (P > 𝛼  --> Fail to reject Ho)**"
   ]
  },
  {
   "cell_type": "code",
   "execution_count": 32,
   "id": "67893d5c",
   "metadata": {},
   "outputs": [
    {
     "name": "stdout",
     "output_type": "stream",
     "text": [
      "Fail to Reject Null Hypothesis\n"
     ]
    }
   ],
   "source": [
    "if RHS3 < 0.05:\n",
    "    print(\"Reject Null Hypothesis\")\n",
    "else:\n",
    "    print('Fail to Reject Null Hypothesis')"
   ]
  },
  {
   "cell_type": "code",
   "execution_count": null,
   "id": "88fe64ff",
   "metadata": {},
   "outputs": [],
   "source": []
  },
  {
   "cell_type": "code",
   "execution_count": null,
   "id": "eaa6bd5d",
   "metadata": {},
   "outputs": [],
   "source": []
  }
 ],
 "metadata": {
  "kernelspec": {
   "display_name": "Python 3 (ipykernel)",
   "language": "python",
   "name": "python3"
  },
  "language_info": {
   "codemirror_mode": {
    "name": "ipython",
    "version": 3
   },
   "file_extension": ".py",
   "mimetype": "text/x-python",
   "name": "python",
   "nbconvert_exporter": "python",
   "pygments_lexer": "ipython3",
   "version": "3.11.3"
  }
 },
 "nbformat": 4,
 "nbformat_minor": 5
}
