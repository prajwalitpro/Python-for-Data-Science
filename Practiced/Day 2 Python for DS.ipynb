{
 "cells": [
  {
   "cell_type": "markdown",
   "id": "c73b4c39",
   "metadata": {},
   "source": [
    "# Conditional Statements\n",
    "---\n",
    "# Input Function:\n",
    "\n",
    "   **We use the input() function to take input from the user. Whatever you enter as input, the input function converts it into a string.**"
   ]
  },
  {
   "cell_type": "code",
   "execution_count": 20,
   "id": "1875c3f9",
   "metadata": {
    "ExecuteTime": {
     "end_time": "2023-03-09T07:36:54.870610Z",
     "start_time": "2023-03-09T07:36:41.420196Z"
    }
   },
   "outputs": [
    {
     "name": "stdout",
     "output_type": "stream",
     "text": [
      "154\n"
     ]
    },
    {
     "data": {
      "text/plain": [
       "'154'"
      ]
     },
     "execution_count": 20,
     "metadata": {},
     "output_type": "execute_result"
    }
   ],
   "source": [
    "input()"
   ]
  },
  {
   "cell_type": "markdown",
   "id": "9ea8eec3",
   "metadata": {
    "ExecuteTime": {
     "end_time": "2023-03-09T07:37:54.246628Z",
     "start_time": "2023-03-09T07:37:47.358538Z"
    }
   },
   "source": [
    "Note.1: By this input function we are passing anything (like int, float, bool) it will convert to the string."
   ]
  },
  {
   "cell_type": "code",
   "execution_count": 21,
   "id": "9eea4525",
   "metadata": {
    "ExecuteTime": {
     "end_time": "2023-03-09T07:38:00.489999Z",
     "start_time": "2023-03-09T07:38:00.474114Z"
    }
   },
   "outputs": [
    {
     "name": "stdout",
     "output_type": "stream",
     "text": [
      "Enter your age: 18\n"
     ]
    }
   ],
   "source": [
    "# Let me create a input function\n",
    "\n",
    "age =  input('Enter your age: ')"
   ]
  },
  {
   "cell_type": "code",
   "execution_count": 22,
   "id": "c5bef25f",
   "metadata": {
    "ExecuteTime": {
     "end_time": "2023-03-09T07:38:10.344758Z",
     "start_time": "2023-03-09T07:38:10.329756Z"
    }
   },
   "outputs": [
    {
     "data": {
      "text/plain": [
       "'18'"
      ]
     },
     "execution_count": 22,
     "metadata": {},
     "output_type": "execute_result"
    }
   ],
   "source": [
    "age"
   ]
  },
  {
   "cell_type": "code",
   "execution_count": 23,
   "id": "7d128238",
   "metadata": {
    "ExecuteTime": {
     "end_time": "2023-03-09T07:39:24.169630Z",
     "start_time": "2023-03-09T07:39:21.371737Z"
    }
   },
   "outputs": [
    {
     "data": {
      "text/plain": [
       "str"
      ]
     },
     "execution_count": 23,
     "metadata": {},
     "output_type": "execute_result"
    }
   ],
   "source": [
    "# Checking the data-type of \"age\" variable\n",
    "\n",
    "type(age)"
   ]
  },
  {
   "cell_type": "markdown",
   "id": "1484b310",
   "metadata": {},
   "source": [
    "We have give int value as input but input function is converted that into the str"
   ]
  },
  {
   "cell_type": "code",
   "execution_count": 24,
   "id": "ffb85285",
   "metadata": {
    "ExecuteTime": {
     "end_time": "2023-03-09T07:39:26.479073Z",
     "start_time": "2023-03-09T07:39:26.469543Z"
    }
   },
   "outputs": [
    {
     "name": "stdout",
     "output_type": "stream",
     "text": [
      "Enter your age: 18\n"
     ]
    }
   ],
   "source": [
    "# To avoid such problem use below method\n",
    "\n",
    "age1 = int(input('Enter your age: '))"
   ]
  },
  {
   "cell_type": "code",
   "execution_count": 25,
   "id": "5211685a",
   "metadata": {},
   "outputs": [
    {
     "data": {
      "text/plain": [
       "18"
      ]
     },
     "execution_count": 25,
     "metadata": {},
     "output_type": "execute_result"
    }
   ],
   "source": [
    "age1"
   ]
  },
  {
   "cell_type": "code",
   "execution_count": 26,
   "id": "145bc13f",
   "metadata": {},
   "outputs": [
    {
     "data": {
      "text/plain": [
       "int"
      ]
     },
     "execution_count": 26,
     "metadata": {},
     "output_type": "execute_result"
    }
   ],
   "source": [
    "# Checking this method is working or not\n",
    "\n",
    "type(age1)"
   ]
  },
  {
   "cell_type": "markdown",
   "id": "c5ad61e8",
   "metadata": {},
   "source": [
    "---\n",
    "# Conditional Statements\n",
    "\n",
    "**1) if**\n",
    "\n",
    "**2) else**\n",
    "\n",
    "**3) elif**"
   ]
  },
  {
   "cell_type": "markdown",
   "id": "d773bccd",
   "metadata": {},
   "source": [
    "---\n",
    "**1) if**"
   ]
  },
  {
   "cell_type": "code",
   "execution_count": 12,
   "id": "8a83d121",
   "metadata": {},
   "outputs": [
    {
     "name": "stdout",
     "output_type": "stream",
     "text": [
      "Access Granted: You ready for learn the Python\n"
     ]
    }
   ],
   "source": [
    "# Condition is if the userid is \"py123\" then print the specified\n",
    "\n",
    "userid = 'py123'\n",
    "\n",
    "if userid == 'py123':\n",
    "    print('Access Granted: You ready for learn the Python')"
   ]
  },
  {
   "cell_type": "code",
   "execution_count": 13,
   "id": "92a8d4fb",
   "metadata": {},
   "outputs": [
    {
     "name": "stdout",
     "output_type": "stream",
     "text": [
      "Enter the player name: MS Dhoni\n",
      "He is one of the Best Indian Cricketer\n"
     ]
    }
   ],
   "source": [
    "# Check whether the player is MS Dhoni\n",
    "\n",
    "player = input('Enter the player name: ')\n",
    "\n",
    "if player == 'MS Dhoni':\n",
    "    print('He is one of the Best Indian Cricketer')"
   ]
  },
  {
   "cell_type": "markdown",
   "id": "eb06bf0c",
   "metadata": {},
   "source": [
    "**2) else**"
   ]
  },
  {
   "cell_type": "code",
   "execution_count": 14,
   "id": "d81665dc",
   "metadata": {
    "ExecuteTime": {
     "end_time": "2023-03-09T07:50:08.283768Z",
     "start_time": "2023-03-09T07:50:06.614513Z"
    }
   },
   "outputs": [
    {
     "name": "stdout",
     "output_type": "stream",
     "text": [
      "Enter the player name: rohit\n",
      "You have typed another players name instead of MS Dhoni \n"
     ]
    }
   ],
   "source": [
    "# The if-else statement is used to execute both the true part and the false part of a given condition.\n",
    "# Check whether the player is MS Dhoni otherwise print specified\n",
    "\n",
    "player = input('Enter the player name: ')\n",
    "\n",
    "if player == 'MS Dhoni':\n",
    "    print('He is one of the Best Indian Cricketer')\n",
    "else:\n",
    "    print('You have typed another players name instead of MS Dhoni ')\n",
    "#---\n",
    "#  \\\n",
    "#   ----------\n",
    "#             \\\n",
    "# This is Indentation  space"
   ]
  },
  {
   "cell_type": "markdown",
   "id": "17d366ea",
   "metadata": {},
   "source": [
    "Note: The space before the print this space is called as Indentation \n",
    "and the error occured due to this it is called as Indentation Error.\n",
    "(If You have miss that space check what you type : this after if condition, and use 1 tab or 4 space)"
   ]
  },
  {
   "cell_type": "code",
   "execution_count": 15,
   "id": "caa3d466",
   "metadata": {},
   "outputs": [
    {
     "name": "stdout",
     "output_type": "stream",
     "text": [
      "Enter the player name: MS Dhoni\n",
      "He is one of the Best Indian Cricketer\n"
     ]
    }
   ],
   "source": [
    "player = input('Enter the player name: ')\n",
    "\n",
    "if player == 'MS Dhoni':\n",
    "    print('He is one of the Best Indian Cricketer')\n",
    "else:\n",
    "    print('You have typed another players name instead of MS Dhoni ')"
   ]
  },
  {
   "cell_type": "code",
   "execution_count": 16,
   "id": "64a8930d",
   "metadata": {
    "ExecuteTime": {
     "end_time": "2023-03-09T07:52:46.037810Z",
     "start_time": "2023-03-09T07:52:43.874056Z"
    }
   },
   "outputs": [
    {
     "name": "stdout",
     "output_type": "stream",
     "text": [
      "Enter any number8\n",
      "It is Positive Number\n"
     ]
    }
   ],
   "source": [
    "# Check whether the number is positive/negative\n",
    "\n",
    "number = int(input('Enter any number: '))\n",
    "\n",
    "if number > 0:\n",
    "    print('It is Positive Number')\n",
    "\n",
    "else:\n",
    "    print('It is Negative Number')"
   ]
  },
  {
   "cell_type": "code",
   "execution_count": 17,
   "id": "8901286a",
   "metadata": {},
   "outputs": [
    {
     "name": "stdout",
     "output_type": "stream",
     "text": [
      "Enter any number-455\n",
      "It is Negative Number\n"
     ]
    }
   ],
   "source": [
    "# Check whether the number is positive/negative\n",
    "\n",
    "number = int(input('Enter any number: '))\n",
    "\n",
    "if number > 0:\n",
    "    print('It is Positive Number')\n",
    "    \n",
    "else:\n",
    "    print('It is Negative Number')"
   ]
  },
  {
   "cell_type": "code",
   "execution_count": 18,
   "id": "02ab90d3",
   "metadata": {
    "ExecuteTime": {
     "end_time": "2023-03-09T07:54:20.609457Z",
     "start_time": "2023-03-09T07:54:18.732342Z"
    }
   },
   "outputs": [
    {
     "name": "stdout",
     "output_type": "stream",
     "text": [
      "Enter any number951\n",
      "It is Odd Number\n"
     ]
    }
   ],
   "source": [
    "#Check whether the number is odd or even\n",
    "\n",
    "num = int(input('Enter any number: '))\n",
    "\n",
    "if num % 2 == 0:\n",
    "    print('It is Even Number')\n",
    "else:\n",
    "    print('It is Odd Number')"
   ]
  },
  {
   "cell_type": "code",
   "execution_count": 19,
   "id": "2229ee00",
   "metadata": {},
   "outputs": [
    {
     "name": "stdout",
     "output_type": "stream",
     "text": [
      "Enter any number874\n",
      "It is Even Number\n"
     ]
    }
   ],
   "source": [
    "#Check whether the number is odd or even\n",
    "\n",
    "num = int(input('Enter any number: '))\n",
    "\n",
    "if num % 2 == 0:\n",
    "    print('It is Even Number')\n",
    "else:\n",
    "    print('It is Odd Number')"
   ]
  },
  {
   "cell_type": "code",
   "execution_count": null,
   "id": "f7b02a40",
   "metadata": {
    "ExecuteTime": {
     "end_time": "2023-03-09T07:58:30.024465Z",
     "start_time": "2023-03-09T07:58:28.326166Z"
    }
   },
   "outputs": [],
   "source": [
    "# Write python program which tell whether the person is eligible to do vote.\n",
    "\n",
    "voter = int(input('Enter your current age: '))\n",
    "\n",
    "if voter >= 18:\n",
    "    print('The Person is Eligible for Voting')\n",
    "else:\n",
    "    print(\"The Persons's Age is Below 18\")"
   ]
  },
  {
   "cell_type": "code",
   "execution_count": null,
   "id": "b3ec758c",
   "metadata": {},
   "outputs": [],
   "source": [
    "# Write python program which tell whether the person is eligible to do vote.\n",
    "\n",
    "voter = int(input('Enter your current age: '))\n",
    "\n",
    "if voter >= 18:\n",
    "    print('The Person is Eligible for Voting')\n",
    "else:\n",
    "    print(\"The Persons's Age is Below 18\")"
   ]
  },
  {
   "cell_type": "code",
   "execution_count": null,
   "id": "41a72501",
   "metadata": {},
   "outputs": [],
   "source": [
    "# Write python program which tell whether the person is eligible to do vote.\n",
    "\n",
    "voter = int(input('Enter your current age: '))\n",
    "\n",
    "if voter >= 18:\n",
    "    print('The Person is Eligible for Voting')\n",
    "else:\n",
    "    print(\"The Persons's Age is Below 18\")"
   ]
  },
  {
   "cell_type": "code",
   "execution_count": null,
   "id": "1c56b14e",
   "metadata": {},
   "outputs": [],
   "source": [
    "# Write python program which tell whether the person is eligible to do vote and also show how much time to wait for voting.\n",
    "\n",
    "voter1 = int(input('Enter your current age: '))\n",
    "\n",
    "if voter1 >= 18:\n",
    "    print('The Person is Eligible for Voting')\n",
    "else:\n",
    "    print('You need to wait for more', 18-voter1, 'Years' )"
   ]
  },
  {
   "cell_type": "code",
   "execution_count": null,
   "id": "ca52e1cb",
   "metadata": {},
   "outputs": [],
   "source": [
    "# Write python program which tell whether the person is eligible to do vote and also show how much time to wait for voting.\n",
    "\n",
    "voter1 = int(input('Enter your current age: '))\n",
    "\n",
    "if voter1 >= 18:\n",
    "    print('The Person is Eligible for Voting')\n",
    "else:\n",
    "    print('You need to wait for more', 18-voter1, 'Years')"
   ]
  },
  {
   "cell_type": "code",
   "execution_count": null,
   "id": "c7cd763f",
   "metadata": {},
   "outputs": [],
   "source": [
    "# Write python program which tell whether the person is eligible to do vote and also show how much time to wait for voting.\n",
    "\n",
    "voter1 = int(input('Enter your current age: '))\n",
    "\n",
    "if voter1 >= 18:\n",
    "    print('The Person is Eligible for Voting')\n",
    "else:\n",
    "    print('You need to wait for more', 18-voter1, 'Years')"
   ]
  },
  {
   "cell_type": "markdown",
   "id": "7a3b62aa",
   "metadata": {
    "ExecuteTime": {
     "end_time": "2023-03-04T05:09:22.046040Z",
     "start_time": "2023-03-04T05:09:22.032172Z"
    }
   },
   "source": [
    "---\n",
    "**3) elif**"
   ]
  },
  {
   "cell_type": "code",
   "execution_count": null,
   "id": "8563d6ed",
   "metadata": {
    "ExecuteTime": {
     "end_time": "2023-03-09T08:02:32.328192Z",
     "start_time": "2023-03-09T08:02:31.341700Z"
    }
   },
   "outputs": [],
   "source": [
    "# Check whether the number is positive/negative/zero\n",
    "\n",
    "pnz = int(input('Enter any number'))\n",
    "\n",
    "if pnz == 0:\n",
    "    print('It is Zero')\n",
    "elif pnz > 0:\n",
    "    print('It is a Positive Number')\n",
    "else:\n",
    "    print('It is a Negative Number')"
   ]
  },
  {
   "cell_type": "code",
   "execution_count": null,
   "id": "497ec5b3",
   "metadata": {},
   "outputs": [],
   "source": [
    "# Check whether the number is positive/negative/zero\n",
    "\n",
    "pnz = int(input('Enter any number'))\n",
    "\n",
    "if pnz == 0:\n",
    "    print('It is Zero')\n",
    "elif pnz > 0:\n",
    "    print('It is a Positive Number')\n",
    "else:\n",
    "    print('It is a Negative Number')"
   ]
  },
  {
   "cell_type": "code",
   "execution_count": null,
   "id": "9ab60f13",
   "metadata": {},
   "outputs": [],
   "source": [
    "# Check whether the number is positive/negative/zero\n",
    "\n",
    "pnz = int(input('Enter any number'))\n",
    "\n",
    "if pnz == 0:\n",
    "    print('It is Zero')\n",
    "elif pnz > 0:\n",
    "    print('It is a Positive Number')\n",
    "else:\n",
    "    print('It is a Negative Number')"
   ]
  },
  {
   "cell_type": "code",
   "execution_count": null,
   "id": "f21c4a2f",
   "metadata": {
    "ExecuteTime": {
     "end_time": "2023-03-09T08:06:26.311299Z",
     "start_time": "2023-03-09T08:06:14.378112Z"
    }
   },
   "outputs": [],
   "source": [
    "# Give grades based on percentages\n",
    "#A : marks >85\n",
    "#B : marks < 85 and >70\n",
    "#C : makrs <70 and > 60\n",
    "#D \n",
    "\n",
    "marks = float(input('Enter Marks: '))\n",
    "\n",
    "if marks > 85:\n",
    "    print('A Grade')\n",
    "    \n",
    "elif (marks <= 85) and (marks > 70):\n",
    "    print('B Grade')\n",
    "    \n",
    "elif (marks <= 70) and (marks > 60):\n",
    "    print('C Grade')\n",
    "    \n",
    "else:\n",
    "    print('D Grade')"
   ]
  },
  {
   "cell_type": "code",
   "execution_count": null,
   "id": "85c8ec53",
   "metadata": {},
   "outputs": [],
   "source": [
    "# Give grades based on percentages\n",
    "#A : marks >85\n",
    "#B : marks < 85 and >70\n",
    "#C : makrs <70 and > 60\n",
    "#D \n",
    "\n",
    "marks = float(input('Enter Marks: '))\n",
    "\n",
    "if marks > 85:\n",
    "    print('A Grade')\n",
    "    \n",
    "elif (marks <= 85) and (marks > 70):\n",
    "    print('B Grade')\n",
    "    \n",
    "elif (marks <= 70) and (marks > 60):\n",
    "    print('C Grade')\n",
    "    \n",
    "else:\n",
    "    print('D Grade')"
   ]
  },
  {
   "cell_type": "code",
   "execution_count": null,
   "id": "77a34d36",
   "metadata": {},
   "outputs": [],
   "source": [
    "# Give grades based on percentages\n",
    "#A : marks >85\n",
    "#B : marks < 85 and >70\n",
    "#C : makrs <70 and > 60\n",
    "#D \n",
    "\n",
    "marks = float(input('Enter Marks: '))\n",
    "\n",
    "if marks > 85:\n",
    "    print('A Grade')\n",
    "    \n",
    "elif (marks <= 85) and (marks > 70):\n",
    "    print('B Grade')\n",
    "    \n",
    "elif (marks <= 70) and (marks > 60):\n",
    "    print('C Grade')\n",
    "    \n",
    "else:\n",
    "    print('D Grade')"
   ]
  },
  {
   "cell_type": "code",
   "execution_count": null,
   "id": "851d1590",
   "metadata": {},
   "outputs": [],
   "source": [
    "# Give grades based on percentages\n",
    "#A : marks >85\n",
    "#B : marks < 85 and >70\n",
    "#C : makrs <70 and > 60\n",
    "#D \n",
    "\n",
    "marks = float(input('Enter Marks: '))\n",
    "\n",
    "if marks > 85:\n",
    "    print('A Grade')\n",
    "    \n",
    "elif (marks <= 85) and (marks > 70):\n",
    "    print('B Grade')\n",
    "    \n",
    "elif (marks <= 70) and (marks > 60):\n",
    "    print('C Grade')\n",
    "    \n",
    "else:\n",
    "    print('D Grade')"
   ]
  },
  {
   "cell_type": "code",
   "execution_count": null,
   "id": "a90949a4",
   "metadata": {},
   "outputs": [],
   "source": [
    "# Give grades based on percentages\n",
    "#A : marks >85\n",
    "#B : marks < 85 and >70\n",
    "#C : makrs <70 and > 60\n",
    "#D \n",
    "\n",
    "marks = float(input('Enter Marks: '))\n",
    "\n",
    "if marks > 85:\n",
    "    print('A Grade')\n",
    "    \n",
    "elif (marks <= 85) and (marks > 70):\n",
    "    print('B Grade')\n",
    "    \n",
    "elif (marks <= 70) and (marks > 60):\n",
    "    print('C Grade')\n",
    "    \n",
    "else:\n",
    "    print('D Grade')"
   ]
  },
  {
   "cell_type": "code",
   "execution_count": null,
   "id": "28343977",
   "metadata": {},
   "outputs": [],
   "source": [
    "# Give grades based on percentages\n",
    "#A : marks >85\n",
    "#B : marks < 85 and >70\n",
    "#C : makrs <70 and > 60\n",
    "#D \n",
    "\n",
    "marks = float(input('Enter Marks: '))\n",
    "\n",
    "if marks > 85:\n",
    "    print('A Grade')\n",
    "    \n",
    "elif (marks <= 85) and (marks > 70):\n",
    "    print('B Grade')\n",
    "    \n",
    "elif (marks <= 70) and (marks > 60):\n",
    "    print('C Grade')\n",
    "    \n",
    "else:\n",
    "    print('D Grade')"
   ]
  },
  {
   "cell_type": "code",
   "execution_count": null,
   "id": "4eb22077",
   "metadata": {},
   "outputs": [],
   "source": [
    "# Give grades based on percentages\n",
    "#A : marks >85\n",
    "#B : marks < 85 and >70\n",
    "#C : makrs <70 and > 60\n",
    "#D \n",
    "\n",
    "marks = float(input('Enter Marks: '))\n",
    "\n",
    "if marks > 85:\n",
    "    print('A Grade')\n",
    "    \n",
    "elif (marks <= 85) and (marks > 70):\n",
    "    print('B Grade')\n",
    "    \n",
    "elif (marks <= 70) and (marks > 60):\n",
    "    print('C Grade')\n",
    "    \n",
    "else:\n",
    "    print('D Grade')"
   ]
  },
  {
   "cell_type": "code",
   "execution_count": null,
   "id": "5d80b107",
   "metadata": {},
   "outputs": [],
   "source": []
  },
  {
   "cell_type": "markdown",
   "id": "72b1ca58",
   "metadata": {},
   "source": [
    "# In-Class Exercise:\n",
    "\n",
    "1. Write a program which will print Century if the player has made more than 100 runs else it should write how many more runs he needs to have to complete the century.\n",
    "2. Write a program to check the number is one digited, two digited and three digited.\n",
    "3. Write a program to check whether the user has entered number 99 or not."
   ]
  },
  {
   "cell_type": "markdown",
   "id": "bb60dc37",
   "metadata": {},
   "source": [
    "---\n",
    "**1. Write a program which will print Century if the player has made more than 100 runs else it should write how many more runs he needs to have to complete the century.**"
   ]
  },
  {
   "cell_type": "code",
   "execution_count": null,
   "id": "2a821e61",
   "metadata": {},
   "outputs": [],
   "source": [
    "# Ans:\n",
    "\n",
    "cen = int(input('Enter score: '))\n",
    "\n",
    "if cen >= 100:\n",
    "    print('The player has made a historical century')\n",
    "    \n",
    "else:\n",
    "    print('The Player needs', 100-cen, 'more runs to made a century')"
   ]
  },
  {
   "cell_type": "code",
   "execution_count": null,
   "id": "13055896",
   "metadata": {},
   "outputs": [],
   "source": [
    "cen = int(input('Enter score: '))\n",
    "\n",
    "if cen >= 100:\n",
    "    print('The player has made a historical century')\n",
    "    \n",
    "else:\n",
    "    print('The Player needs', 100-cen, 'more runs to made a century')"
   ]
  },
  {
   "cell_type": "markdown",
   "id": "b6cdd818",
   "metadata": {},
   "source": [
    "**2. Write a program to check the number is one digited, two digited and three digited.**"
   ]
  },
  {
   "cell_type": "code",
   "execution_count": null,
   "id": "699174c0",
   "metadata": {},
   "outputs": [],
   "source": [
    "# Ans:\n",
    "\n",
    "nd = int(input('Enter number: '))\n",
    "\n",
    "if (nd > (-10)) and (nd < (+10)):\n",
    "    print('It is Single Digit Number')\n",
    "    \n",
    "elif (nd > (-100)) and (nd < (+100)):\n",
    "    print('It is Two Digit Number')\n",
    "    \n",
    "elif (nd > (-1000)) and (nd < (+1000)):\n",
    "    print('It is Three Digit Number')\n",
    "    \n",
    "else:\n",
    "    print('The Number is More Than Three Digit')"
   ]
  },
  {
   "cell_type": "code",
   "execution_count": null,
   "id": "fb6b5062",
   "metadata": {},
   "outputs": [],
   "source": [
    "nd = int(input('Enter number: '))\n",
    "\n",
    "if (nd > (-10)) and (nd < (+10)):\n",
    "    print('It is Single Digit Number')\n",
    "    \n",
    "elif (nd > (-100)) and (nd < (+100)):\n",
    "    print('It is Two Digit Number')\n",
    "    \n",
    "elif (nd > (-1000)) and (nd < (+1000)):\n",
    "    print('It is Three Digit Number')\n",
    "    \n",
    "else:\n",
    "    print('The Number is More Than Three Digit')"
   ]
  },
  {
   "cell_type": "code",
   "execution_count": null,
   "id": "6b26ab85",
   "metadata": {},
   "outputs": [],
   "source": [
    "nd = int(input('Enter number: '))\n",
    "\n",
    "if (nd > (-10)) and (nd < (+10)):\n",
    "    print('It is Single Digit Number')\n",
    "    \n",
    "elif (nd > (-100)) and (nd < (+100)):\n",
    "    print('It is Two Digit Number')\n",
    "    \n",
    "elif (nd > (-1000)) and (nd < (+1000)):\n",
    "    print('It is Three Digit Number')\n",
    "    \n",
    "else:\n",
    "    print('The Number is More Than Three Digit')"
   ]
  },
  {
   "cell_type": "code",
   "execution_count": null,
   "id": "03a7adce",
   "metadata": {},
   "outputs": [],
   "source": [
    "nd = int(input('Enter number: '))\n",
    "\n",
    "if (nd > (-10)) and (nd < (+10)):\n",
    "    print('It is Single Digit Number')\n",
    "    \n",
    "elif (nd > (-100)) and (nd < (+100)):\n",
    "    print('It is Two Digit Number')\n",
    "    \n",
    "elif (nd > (-1000)) and (nd < (+1000)):\n",
    "    print('It is Three Digit Number')\n",
    "    \n",
    "else:\n",
    "    print('The Number is More Than Three Digit')"
   ]
  },
  {
   "cell_type": "code",
   "execution_count": null,
   "id": "a30d1391",
   "metadata": {},
   "outputs": [],
   "source": [
    "nd = int(input('Enter number: '))\n",
    "\n",
    "if (nd > (-10)) and (nd < (+10)):\n",
    "    print('It is Single Digit Number')\n",
    "    \n",
    "elif (nd > (-100)) and (nd < (+100)):\n",
    "    print('It is Two Digit Number')\n",
    "    \n",
    "elif (nd > (-1000)) and (nd < (+1000)):\n",
    "    print('It is Three Digit Number')\n",
    "    \n",
    "else:\n",
    "    print('The Number is More Than Three Digit')"
   ]
  },
  {
   "cell_type": "markdown",
   "id": "74066ad6",
   "metadata": {},
   "source": [
    "---\n",
    "**3. Write a program to check whether the user has entered number 99 or not.**"
   ]
  },
  {
   "cell_type": "code",
   "execution_count": null,
   "id": "d8d5ac30",
   "metadata": {},
   "outputs": [],
   "source": [
    "# Ans:\n",
    "\n",
    "unum = int(input('Enter number: '))\n",
    "\n",
    "if unum == 99:\n",
    "    print('You have Entered the Right Number that is Ninety Nine')\n",
    "else:\n",
    "    print('You have Entered Wrong Number, Please Enter the Correct Number')"
   ]
  },
  {
   "cell_type": "code",
   "execution_count": null,
   "id": "c256fcbc",
   "metadata": {},
   "outputs": [],
   "source": [
    "unum = int(input('Enter number: '))\n",
    "\n",
    "if unum == 99:\n",
    "    print('You have Entered the Right Number that is Ninety Nine')\n",
    "else:\n",
    "    print('You have Entered Wrong Number, Please Enter the Correct Number')"
   ]
  },
  {
   "cell_type": "markdown",
   "id": "41a9fb5f",
   "metadata": {},
   "source": []
  },
  {
   "cell_type": "code",
   "execution_count": null,
   "id": "2c86cd0f",
   "metadata": {},
   "outputs": [],
   "source": []
  },
  {
   "cell_type": "markdown",
   "id": "e4b949d4",
   "metadata": {},
   "source": [
    "---\n",
    "# Functions\n",
    "\n",
    "**Types of Function:**\n",
    "\n",
    "    1. Built-in funtions\n",
    "    2. User defined function\n",
    "    \n",
    "- We can create our own customized functions in python for code reusability."
   ]
  },
  {
   "cell_type": "code",
   "execution_count": null,
   "id": "c03cfde8",
   "metadata": {
    "ExecuteTime": {
     "end_time": "2023-03-09T08:37:53.648308Z",
     "start_time": "2023-03-09T08:37:53.624690Z"
    }
   },
   "outputs": [],
   "source": [
    "# Basic Function\n",
    "# To create new function the keyword is called as def\n",
    "\n",
    "def sim_fun():\n",
    "    print('This is my own function')"
   ]
  },
  {
   "cell_type": "code",
   "execution_count": null,
   "id": "44fe4a3f",
   "metadata": {
    "ExecuteTime": {
     "end_time": "2023-03-09T08:37:53.663896Z",
     "start_time": "2023-03-09T08:37:53.650815Z"
    }
   },
   "outputs": [],
   "source": [
    "sim_fun()"
   ]
  },
  {
   "cell_type": "code",
   "execution_count": null,
   "id": "77be4f62",
   "metadata": {
    "ExecuteTime": {
     "end_time": "2023-03-09T08:37:53.679818Z",
     "start_time": "2023-03-09T08:37:53.666976Z"
    }
   },
   "outputs": [],
   "source": [
    "def fun():\n",
    "    print('First')\n",
    "    print('Second')"
   ]
  },
  {
   "cell_type": "code",
   "execution_count": null,
   "id": "b442d6bc",
   "metadata": {
    "ExecuteTime": {
     "end_time": "2023-03-09T08:37:53.695398Z",
     "start_time": "2023-03-09T08:37:53.687391Z"
    }
   },
   "outputs": [],
   "source": [
    "fun()"
   ]
  },
  {
   "cell_type": "code",
   "execution_count": null,
   "id": "ce3201c6",
   "metadata": {
    "ExecuteTime": {
     "end_time": "2023-03-09T08:37:53.711178Z",
     "start_time": "2023-03-09T08:37:53.699028Z"
    }
   },
   "outputs": [],
   "source": [
    "print()  # Press Shift + Tab to check documentation"
   ]
  },
  {
   "cell_type": "markdown",
   "id": "12dfbf0e",
   "metadata": {
    "ExecuteTime": {
     "end_time": "2023-03-09T08:37:53.726360Z",
     "start_time": "2023-03-09T08:37:53.714176Z"
    }
   },
   "source": [
    "Note: If you create a Function, then do the documentation of that particlar function for additional information"
   ]
  },
  {
   "cell_type": "code",
   "execution_count": null,
   "id": "c96b8c93",
   "metadata": {
    "ExecuteTime": {
     "end_time": "2023-03-09T08:37:53.757445Z",
     "start_time": "2023-03-09T08:37:53.729071Z"
    }
   },
   "outputs": [],
   "source": [
    "# Docstring (this process is for doing the documentation of created function)\n",
    "\n",
    "def doc_fun():\n",
    "    '''This function will print number 18'''\n",
    "    print(18)"
   ]
  },
  {
   "cell_type": "code",
   "execution_count": null,
   "id": "a50ef5a0",
   "metadata": {
    "ExecuteTime": {
     "end_time": "2023-03-09T08:37:53.773372Z",
     "start_time": "2023-03-09T08:37:53.761564Z"
    }
   },
   "outputs": [],
   "source": [
    " doc_fun()  # Press Shift + Tab to check documentation"
   ]
  },
  {
   "cell_type": "code",
   "execution_count": null,
   "id": "fc10f05f",
   "metadata": {
    "ExecuteTime": {
     "end_time": "2023-03-09T08:37:53.804404Z",
     "start_time": "2023-03-09T08:37:53.794628Z"
    }
   },
   "outputs": [],
   "source": [
    "# Write a python function which will return me the maximum number\n",
    "\n",
    "\n",
    "def max_num(x,y):\n",
    "    if x > y:\n",
    "        print(x, ': It is max. number between you have specified.')"
   ]
  },
  {
   "cell_type": "code",
   "execution_count": null,
   "id": "8a269a9a",
   "metadata": {
    "ExecuteTime": {
     "end_time": "2023-03-09T08:37:53.820326Z",
     "start_time": "2023-03-09T08:37:53.807137Z"
    }
   },
   "outputs": [],
   "source": [
    "max_num(40,8.5)"
   ]
  },
  {
   "cell_type": "code",
   "execution_count": null,
   "id": "78eecdf1",
   "metadata": {},
   "outputs": [],
   "source": [
    "def max_num1(x,y):\n",
    "    if x > y:\n",
    "        print(x, ': It is max. number between you have specified.')\n",
    "    elif x < y:\n",
    "        print(y, ': It is max. number between you have specified.')"
   ]
  },
  {
   "cell_type": "code",
   "execution_count": null,
   "id": "577b2b14",
   "metadata": {},
   "outputs": [],
   "source": [
    "max_num1(7845,945122)"
   ]
  },
  {
   "cell_type": "code",
   "execution_count": null,
   "id": "003384b1",
   "metadata": {
    "ExecuteTime": {
     "end_time": "2023-03-09T08:37:53.836380Z",
     "start_time": "2023-03-09T08:37:53.824654Z"
    }
   },
   "outputs": [],
   "source": [
    "# *args: (To multiple arguments or conditions)\n",
    "\n",
    "def max_num2(* args):   # Here args is variable name\n",
    "    print(max(args))"
   ]
  },
  {
   "cell_type": "code",
   "execution_count": null,
   "id": "5fbfe8d0",
   "metadata": {
    "ExecuteTime": {
     "end_time": "2023-03-09T08:37:53.851764Z",
     "start_time": "2023-03-09T08:37:53.838539Z"
    }
   },
   "outputs": [],
   "source": [
    "max_num2(415,74,75.6544,715154,7,7,5515,855)"
   ]
  },
  {
   "cell_type": "markdown",
   "id": "603cc120",
   "metadata": {},
   "source": [
    "---\n",
    "# Types of Loops\n",
    "\n",
    "**1. While Loop (Infinite Loop)**\n",
    "\n",
    "**2. For Loop (Finite Loop)**"
   ]
  },
  {
   "cell_type": "markdown",
   "id": "29083052",
   "metadata": {},
   "source": [
    "---\n",
    "**1. While Loop (Infinite Loop):**\n",
    "\n",
    "In Python, a while loop is used to execute a block of statements repeatedly until a given condition is satisfied. And when the condition becomes false, the line immediately after the loop in the program is executed.\n",
    "\n",
    "In other words (The while loop is used when you want to repeat a block of code as long as a specified condition remains true. The loop continues to execute until the condition evaluates to false.)"
   ]
  },
  {
   "cell_type": "code",
   "execution_count": null,
   "id": "9fcf2c15",
   "metadata": {
    "ExecuteTime": {
     "end_time": "2023-03-09T08:38:53.692011Z",
     "start_time": "2023-03-09T08:38:53.679406Z"
    },
    "scrolled": false
   },
   "outputs": [],
   "source": [
    "# While Loop\n",
    "\n",
    "k = 1\n",
    "\n",
    "while k < 10:\n",
    "    print(k)\n",
    "    k = k +1"
   ]
  },
  {
   "cell_type": "code",
   "execution_count": null,
   "id": "ec0d9c0d",
   "metadata": {
    "ExecuteTime": {
     "end_time": "2023-03-09T08:41:10.059983Z",
     "start_time": "2023-03-09T08:41:10.046394Z"
    }
   },
   "outputs": [],
   "source": [
    "# Range function\n",
    "\n",
    "r = range(0,31)\n",
    "r\n",
    "\n",
    "# To use range function we have to convert this range function to List"
   ]
  },
  {
   "cell_type": "code",
   "execution_count": null,
   "id": "bb2ae0b3",
   "metadata": {
    "ExecuteTime": {
     "end_time": "2023-03-09T08:41:10.638443Z",
     "start_time": "2023-03-09T08:41:10.620706Z"
    }
   },
   "outputs": [],
   "source": [
    "list(r)"
   ]
  },
  {
   "cell_type": "code",
   "execution_count": null,
   "id": "38cfb518",
   "metadata": {},
   "outputs": [],
   "source": [
    "# Range function\n",
    "\n",
    "ri = range(0,31,2)\n",
    "ri\n",
    "\n",
    "# To use range function we have to convert this range function to List"
   ]
  },
  {
   "cell_type": "code",
   "execution_count": null,
   "id": "39414a94",
   "metadata": {},
   "outputs": [],
   "source": [
    "list(ri)"
   ]
  },
  {
   "cell_type": "markdown",
   "id": "7cd20535",
   "metadata": {},
   "source": [
    "---\n",
    "**2. For Loop (Finite Loop): (within certain Interval of Range)**\n",
    "\n",
    "**i)** The \"For Loop\" in Python is used to iterate over a sequence, which could be a list, tuple, array, or string.\n",
    "\n",
    "In Other Words (The for loop is used when you know in advance how many times you want to repeat a particular block of code. It iterates over a range of values (e.g., numbers) and executes the block of code for each value in the range.)\n",
    "\n",
    "**ii)** For loops are used for sequential traversal. For example: traversing a list or string or array etc. In Python, there is “for in” loop which is similar to for each loop in other languages. Let us learn how to use for in loop for sequential traversals."
   ]
  },
  {
   "cell_type": "code",
   "execution_count": null,
   "id": "d4d45a83",
   "metadata": {
    "ExecuteTime": {
     "end_time": "2023-03-09T08:37:53.903542Z",
     "start_time": "2023-03-09T08:37:53.903542Z"
    }
   },
   "outputs": [],
   "source": [
    "# For loop\n",
    "\n",
    "# (I want to print number starting 0 to 10)\n",
    "for i in range(1,11):     # Here, \"i\" is just a variable\n",
    "    print(i)"
   ]
  },
  {
   "cell_type": "code",
   "execution_count": null,
   "id": "ac96a16e",
   "metadata": {
    "ExecuteTime": {
     "end_time": "2023-03-09T08:44:06.083018Z",
     "start_time": "2023-03-09T08:44:06.065840Z"
    }
   },
   "outputs": [],
   "source": [
    "# I want to print only odd number within the range of 0 to 50\n",
    "\n",
    "for i in range(0,51):\n",
    "    if i % 2 ==1:\n",
    "        print(i)"
   ]
  },
  {
   "cell_type": "code",
   "execution_count": null,
   "id": "a983629c",
   "metadata": {
    "ExecuteTime": {
     "end_time": "2023-03-09T08:45:43.329098Z",
     "start_time": "2023-03-09T08:45:43.318730Z"
    }
   },
   "outputs": [],
   "source": [
    "# I want to print only even number within the range of 0 to 50\n",
    "\n",
    "for i in range(0,51):\n",
    "    if i % 2 == 0:\n",
    "        print(i)"
   ]
  },
  {
   "cell_type": "code",
   "execution_count": null,
   "id": "e55b50f3",
   "metadata": {
    "ExecuteTime": {
     "end_time": "2023-03-09T08:46:23.871967Z",
     "start_time": "2023-03-09T08:46:23.865657Z"
    }
   },
   "outputs": [],
   "source": [
    "# Company list\n",
    "\n",
    "comp = ['amazon', 'flipkart', 'excelr']"
   ]
  },
  {
   "cell_type": "code",
   "execution_count": null,
   "id": "77bd1973",
   "metadata": {
    "ExecuteTime": {
     "end_time": "2023-03-09T08:46:56.955218Z",
     "start_time": "2023-03-09T08:46:56.948655Z"
    }
   },
   "outputs": [],
   "source": [
    "# In huge data, and we want to print some values\n",
    "\n",
    "for i in comp:\n",
    "    print(i)"
   ]
  },
  {
   "cell_type": "code",
   "execution_count": null,
   "id": "b3893ac1",
   "metadata": {
    "ExecuteTime": {
     "end_time": "2023-03-09T08:48:31.205934Z",
     "start_time": "2023-03-09T08:48:31.185773Z"
    }
   },
   "outputs": [],
   "source": [
    "# I want convert this company names to companies website\n",
    "\n",
    "for i in comp:\n",
    "    print('www.' +i+ '.com')"
   ]
  },
  {
   "cell_type": "code",
   "execution_count": null,
   "id": "88d750ca",
   "metadata": {
    "ExecuteTime": {
     "end_time": "2023-03-09T08:51:26.158024Z",
     "start_time": "2023-03-09T08:51:26.148206Z"
    }
   },
   "outputs": [],
   "source": [
    "# Print square of all the number in the range of 1,10\n",
    "\n",
    "for i in range(1,11):\n",
    "    print(i**2)"
   ]
  },
  {
   "cell_type": "code",
   "execution_count": null,
   "id": "7c1519aa",
   "metadata": {
    "ExecuteTime": {
     "end_time": "2023-03-09T08:52:50.733139Z",
     "start_time": "2023-03-09T08:52:50.718782Z"
    }
   },
   "outputs": [],
   "source": [
    "# Store all the even numbers and odd number is separate lists\n",
    "\n",
    "even = []\n",
    "odd = []\n",
    "\n",
    "for i in range(1,21):\n",
    "    if i % 2 == 0:\n",
    "        even.append(i)\n",
    "    else:\n",
    "        odd.append(i)"
   ]
  },
  {
   "cell_type": "code",
   "execution_count": null,
   "id": "889d770f",
   "metadata": {
    "ExecuteTime": {
     "end_time": "2023-03-09T08:52:53.993301Z",
     "start_time": "2023-03-09T08:52:53.971989Z"
    }
   },
   "outputs": [],
   "source": [
    "even"
   ]
  },
  {
   "cell_type": "code",
   "execution_count": null,
   "id": "7522a3fc",
   "metadata": {
    "ExecuteTime": {
     "end_time": "2023-03-09T08:52:58.616106Z",
     "start_time": "2023-03-09T08:52:58.596371Z"
    }
   },
   "outputs": [],
   "source": [
    "odd"
   ]
  },
  {
   "cell_type": "markdown",
   "id": "4f712923",
   "metadata": {},
   "source": [
    "---\n",
    "# In-Class Activity:\n",
    "\n",
    "Qu.1) Write a program to store all names which starts with 'A' in a list.\n",
    "\n",
    "Qu.2) Take a list of numbers and add 5 to each number.\n",
    "\n",
    "Qu.3) Create a list of marks and print only marks > 75."
   ]
  },
  {
   "cell_type": "markdown",
   "id": "c8098b19",
   "metadata": {},
   "source": [
    "---\n",
    "**Qu.1) Write a program to store all names which starts with 'A' in a list.**"
   ]
  },
  {
   "cell_type": "code",
   "execution_count": null,
   "id": "e9adc42f",
   "metadata": {},
   "outputs": [],
   "source": [
    "# Ans:\n",
    "\n",
    "names = ['Arjun', 'Arun', 'Amol', 'Aisha', 'Bravo', 'Apeksha']\n",
    "lstA = []\n",
    "\n",
    "for i in names:\n",
    "    if i.startswith('A'):\n",
    "        lstA.append(i)"
   ]
  },
  {
   "cell_type": "code",
   "execution_count": null,
   "id": "0412d2fa",
   "metadata": {},
   "outputs": [],
   "source": [
    "lstA"
   ]
  },
  {
   "cell_type": "markdown",
   "id": "e1b555e5",
   "metadata": {},
   "source": [
    "---\n",
    "**Qu.2) Take a list of numbers and add 5 to each number.**"
   ]
  },
  {
   "cell_type": "code",
   "execution_count": null,
   "id": "b38cfe1f",
   "metadata": {},
   "outputs": [],
   "source": [
    "# Ans:\n",
    "\n",
    "numb = range(1,11)\n",
    "lnum = list(numb)\n",
    "\n",
    "for i in lnum:\n",
    "    print(i+5)"
   ]
  },
  {
   "cell_type": "markdown",
   "id": "bfcf2566",
   "metadata": {},
   "source": [
    "**Qu.3) Create a list of marks and print only those marks which are greater than 75.**"
   ]
  },
  {
   "cell_type": "code",
   "execution_count": null,
   "id": "688cf2b0",
   "metadata": {},
   "outputs": [],
   "source": [
    "# Ans:\n",
    "\n",
    "mar = [78,84,20,79,75,91,15,36,71,64,57,43,72,42,56,67,98,39,46,97.28,98,89.77]\n",
    "\n",
    "for i in mar:\n",
    "    if i > 75:\n",
    "        print(i)"
   ]
  },
  {
   "cell_type": "markdown",
   "id": "bf7b237e",
   "metadata": {
    "ExecuteTime": {
     "end_time": "2023-03-04T05:41:19.978724Z",
     "start_time": "2023-03-04T05:41:19.958113Z"
    }
   },
   "source": [
    "# ---------------------------------------- Thank You ----------------------------------------"
   ]
  },
  {
   "cell_type": "code",
   "execution_count": null,
   "id": "e4164bda",
   "metadata": {},
   "outputs": [],
   "source": []
  }
 ],
 "metadata": {
  "kernelspec": {
   "display_name": "Python 3 (ipykernel)",
   "language": "python",
   "name": "python3"
  },
  "language_info": {
   "codemirror_mode": {
    "name": "ipython",
    "version": 3
   },
   "file_extension": ".py",
   "mimetype": "text/x-python",
   "name": "python",
   "nbconvert_exporter": "python",
   "pygments_lexer": "ipython3",
   "version": "3.11.3"
  }
 },
 "nbformat": 4,
 "nbformat_minor": 5
}
